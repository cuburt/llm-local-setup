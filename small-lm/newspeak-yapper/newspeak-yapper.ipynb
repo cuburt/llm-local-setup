{
 "cells": [
  {
   "cell_type": "code",
   "execution_count": 1,
   "id": "c458392f-c896-461d-b015-84f008583a8d",
   "metadata": {
    "editable": true,
    "slideshow": {
     "slide_type": ""
    },
    "tags": []
   },
   "outputs": [],
   "source": [
    "# # read unlabelled dataset\n",
    "# with open(\"unlabelled_dataset.txt\", encoding='utf-8') as f:\n",
    "#     text = f.read()\n",
    "\n",
    "# print(\"Content Length: \", len(text))\n",
    "# print(\"Top 1000: \", text[:1000])"
   ]
  },
  {
   "cell_type": "code",
   "execution_count": 2,
   "id": "5e3c481b-a149-4009-a307-0430de828ddf",
   "metadata": {},
   "outputs": [],
   "source": [
    "import pandas as pd\n",
    "df = pd.read_csv(\"newspeak.csv\")\n",
    "text = \"\".join([v for v in df[\"Newspeak Translation\"].unique()])"
   ]
  },
  {
   "cell_type": "code",
   "execution_count": 3,
   "id": "e8f5a527-b7bb-4031-8153-880989a2ba11",
   "metadata": {},
   "outputs": [
    {
     "name": "stdout",
     "output_type": "stream",
     "text": [
      "vocab_size:  40\n",
      "Characters:   '.BCDGHINOPRSTUWabcdefghijklmnoprstuvwy\n"
     ]
    }
   ],
   "source": [
    "# collect all unique characters from text:\n",
    "chars = sorted(list(set(text)))\n",
    "vocab_size = len(chars)\n",
    "print(\"vocab_size: \", vocab_size)\n",
    "print(\"Characters: \", \"\".join(chars))"
   ]
  },
  {
   "cell_type": "code",
   "execution_count": 4,
   "id": "55cccd56-52ca-4ca6-acbd-9ec0bc05b061",
   "metadata": {},
   "outputs": [
    {
     "name": "stdout",
     "output_type": "stream",
     "text": [
      "[24, 25, 0, 35, 24, 21, 33, 21]\n",
      "hi there\n"
     ]
    }
   ],
   "source": [
    "stoi = { ch:i for i, ch in enumerate(chars)}\n",
    "itos = {i:ch for i, ch in enumerate(chars)}\n",
    "encode = lambda s: [stoi[c] for c in s]\n",
    "decode= lambda l: ''.join([itos[i] for i in l])\n",
    "\n",
    "print(encode(\"hi there\"))\n",
    "print(decode(encode(\"hi there\")))"
   ]
  },
  {
   "cell_type": "code",
   "execution_count": 5,
   "id": "87d4021e-c5da-468c-b616-c6897739dfcd",
   "metadata": {},
   "outputs": [
    {
     "name": "stdout",
     "output_type": "stream",
     "text": [
      "torch.Size([6800])\n"
     ]
    }
   ],
   "source": [
    "import torch\n",
    "data = torch.tensor(encode(text), dtype=torch.long)\n",
    "print(data.shape)"
   ]
  },
  {
   "cell_type": "code",
   "execution_count": 6,
   "id": "8d9c94f9-b3d9-42cb-8379-50bfbfac45f2",
   "metadata": {},
   "outputs": [],
   "source": [
    "n = int(.9*len(data))\n",
    "train_data = data[:n]\n",
    "val_data = data[n:]"
   ]
  },
  {
   "cell_type": "code",
   "execution_count": 7,
   "id": "ee5c8989-10d8-4bdf-bc65-fd49e3367269",
   "metadata": {},
   "outputs": [
    {
     "data": {
      "text/plain": [
       "tensor([15, 30, 26, 31, 39,  0, 25, 34,  0])"
      ]
     },
     "execution_count": 7,
     "metadata": {},
     "output_type": "execute_result"
    }
   ],
   "source": [
    "context_length = 8\n",
    "train_data[:context_length+1]"
   ]
  },
  {
   "cell_type": "code",
   "execution_count": 8,
   "id": "d4167dd2-b0fd-4609-8b36-57ad02e787a5",
   "metadata": {},
   "outputs": [],
   "source": [
    "x = train_data[:context_length]\n",
    "y = train_data[1:context_length+1]"
   ]
  },
  {
   "cell_type": "code",
   "execution_count": 9,
   "id": "da406113-2677-48e1-b8be-d887d418faf2",
   "metadata": {},
   "outputs": [],
   "source": [
    "torch.manual_seed(1337)\n",
    "batch_size = 4\n",
    "context_length = 8\n",
    "\n",
    "def get_batch(split):\n",
    "    data = train_data if split == \"train\" else val_data\n",
    "    ix = torch.randint(len(data) - context_length, (batch_size, ))\n",
    "    x = torch.stack([data[i:i + context_length] for i in ix])\n",
    "    y = torch.stack([data[i + 1:i + context_length + 1] for i in ix])\n",
    "    return x, y\n",
    "\n",
    "xb, yb = get_batch(\"train\")"
   ]
  },
  {
   "cell_type": "code",
   "execution_count": 10,
   "id": "d214616e-9ad9-447b-8ec8-42f34706e70a",
   "metadata": {},
   "outputs": [
    {
     "name": "stdout",
     "output_type": "stream",
     "text": [
      "torch.Size([32, 40])\n",
      "torch.Size([])\n",
      "tensor(4.4530, grad_fn=<NllLossBackward0>)\n"
     ]
    }
   ],
   "source": [
    "import torch.nn as nn\n",
    "from torch.nn import functional as F\n",
    "torch.manual_seed(1337)\n",
    "\n",
    "\n",
    "class BigramLM(nn.Module):\n",
    "    def __init__(self, vocab_size):\n",
    "        super().__init__()\n",
    "        self.token_embedding_table = nn.Embedding(vocab_size, vocab_size)\n",
    "\n",
    "    def forward(self, idx, targets=None):\n",
    "        logits = self.token_embedding_table(idx) # Batch, Time, Channel\n",
    "        if targets is None:\n",
    "            loss = None\n",
    "        else:\n",
    "            # reshape B, T, C\n",
    "            B, T, C = logits.shape\n",
    "            logits = logits.view(B*T, C)\n",
    "            targets = targets.view(B*T)\n",
    "            loss = F.cross_entropy(logits, targets)\n",
    "        return logits, loss\n",
    "\n",
    "    def generate(self, idx, max_new_tokens):\n",
    "        for _ in range(max_new_tokens):\n",
    "            logits, loss = self(idx)\n",
    "            logits = logits[:, -1, :]\n",
    "            probs = F.softmax(logits, dim=-1)\n",
    "            idx_next = torch.multinomial(probs, num_samples=1)\n",
    "            idx = torch.cat((idx, idx_next), dim=1)\n",
    "        return idx\n",
    "\n",
    "\n",
    "model = BigramLM(vocab_size)\n",
    "logits, loss = model(xb, yb)\n",
    "print(logits.shape)\n",
    "print(loss.shape)\n",
    "print(loss)"
   ]
  },
  {
   "cell_type": "code",
   "execution_count": 11,
   "id": "536af9d4-b058-488e-8b6d-f07f3b71f2c6",
   "metadata": {},
   "outputs": [
    {
     "name": "stdout",
     "output_type": "stream",
     "text": [
      " gStrCuapDI.mBaaUmGylOwrm. cU.rW'TivlasNdHnGypwhwmbscgwcgeGHhtbBlewtHvnRu.HvsTTtiBfHlS SeBwooPCNCtsCN\n"
     ]
    }
   ],
   "source": [
    "print(decode(model.generate(idx=torch.zeros((1, 1), dtype=torch.long), max_new_tokens=100)[0].tolist()))"
   ]
  },
  {
   "cell_type": "code",
   "execution_count": 12,
   "id": "93958495-69f9-46f2-aef7-3301677029f4",
   "metadata": {},
   "outputs": [
    {
     "name": "stderr",
     "output_type": "stream",
     "text": [
      "/Users/cuburtbalanon/anaconda3/envs/llama/lib/python3.9/site-packages/tqdm/auto.py:21: TqdmWarning: IProgress not found. Please update jupyter and ipywidgets. See https://ipywidgets.readthedocs.io/en/stable/user_install.html\n",
      "  from .autonotebook import tqdm as notebook_tqdm\n"
     ]
    }
   ],
   "source": [
    "optimizer = torch.optim.AdamW(model.parameters(), lr=1e-3)"
   ]
  },
  {
   "cell_type": "code",
   "execution_count": 13,
   "id": "4577c400-ef4a-4083-b941-e8b8cca06663",
   "metadata": {},
   "outputs": [
    {
     "name": "stdout",
     "output_type": "stream",
     "text": [
      "1.8287968635559082\n"
     ]
    }
   ],
   "source": [
    "batch_size = 32\n",
    "for steps in range(10000):\n",
    "    xb, yb = get_batch('train')\n",
    "    logits, loss = model(xb, yb)\n",
    "    optimizer.zero_grad(set_to_none=True)\n",
    "    loss.backward()\n",
    "    optimizer.step()\n",
    "print(loss.item())"
   ]
  },
  {
   "cell_type": "code",
   "execution_count": 19,
   "id": "9578ec35-858b-49cd-9fff-cefab292a3c7",
   "metadata": {},
   "outputs": [
    {
     "name": "stdout",
     "output_type": "stream",
     "text": [
      " thie th dode gy.The mplus t un'the pl.We crWe arusth.Therun'tooodey uno the.Wey.I beriey cerodot unp\n"
     ]
    }
   ],
   "source": [
    "print(decode(model.generate(idx=torch.zeros((1, 1), dtype=torch.long), max_new_tokens=100)[0].tolist()))"
   ]
  },
  {
   "cell_type": "code",
   "execution_count": null,
   "id": "34536911-0989-49b4-808d-14987fd845ff",
   "metadata": {},
   "outputs": [],
   "source": [
    "torch.manual_seed(1337)\n",
    "\n",
    "head_size = 16\n",
    "key = nn.Linear(C, head_size, bias=False)\n",
    "query = nn.Linear(C, head_size, bias=False)\n",
    "value = nn.Linear(C, head_size, bias=False)\n",
    "\n",
    "k = key(x)\n",
    "q = query(x)\n",
    "w = q @ k.transpose(-2, -1)\n",
    "\n",
    "\n"
   ]
  }
 ],
 "metadata": {
  "kernelspec": {
   "display_name": "Python 3 (ipykernel)",
   "language": "python",
   "name": "python3"
  },
  "language_info": {
   "codemirror_mode": {
    "name": "ipython",
    "version": 3
   },
   "file_extension": ".py",
   "mimetype": "text/x-python",
   "name": "python",
   "nbconvert_exporter": "python",
   "pygments_lexer": "ipython3",
   "version": "3.9.18"
  }
 },
 "nbformat": 4,
 "nbformat_minor": 5
}
