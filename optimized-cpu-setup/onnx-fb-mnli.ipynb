{
 "cells": [
  {
   "cell_type": "code",
   "execution_count": 1,
   "id": "f5964f2e-5ec4-4705-9fbb-853f2b2e8969",
   "metadata": {},
   "outputs": [
    {
     "name": "stdout",
     "output_type": "stream",
     "text": [
      "Python 3.11.4\n"
     ]
    }
   ],
   "source": [
    "!python -V"
   ]
  },
  {
   "cell_type": "code",
   "execution_count": 2,
   "id": "8503bcb7-1813-4ace-8fa9-b446c0868ade",
   "metadata": {},
   "outputs": [
    {
     "name": "stdout",
     "output_type": "stream",
     "text": [
      "Requirement already satisfied: transformers in c:\\users\\cuburt.balanon\\appdata\\roaming\\python\\python311\\site-packages (4.33.0)\n",
      "Requirement already satisfied: datasets in c:\\users\\cuburt.balanon\\appdata\\roaming\\python\\python311\\site-packages (2.14.4)\n",
      "Requirement already satisfied: evaluate in c:\\users\\cuburt.balanon\\appdata\\roaming\\python\\python311\\site-packages (0.4.0)\n",
      "Requirement already satisfied: tqdm in c:\\users\\cuburt.balanon\\appdata\\roaming\\python\\python311\\site-packages (4.66.1)\n",
      "Requirement already satisfied: scikit-learn in c:\\users\\cuburt.balanon\\appdata\\roaming\\python\\python311\\site-packages (1.3.0)\n",
      "Requirement already satisfied: torch in c:\\users\\cuburt.balanon\\appdata\\roaming\\python\\python311\\site-packages (2.0.1)\n",
      "Requirement already satisfied: filelock in c:\\users\\cuburt.balanon\\appdata\\roaming\\python\\python311\\site-packages (from transformers) (3.12.3)\n",
      "Requirement already satisfied: huggingface-hub<1.0,>=0.15.1 in c:\\users\\cuburt.balanon\\appdata\\roaming\\python\\python311\\site-packages (from transformers) (0.16.4)\n",
      "Requirement already satisfied: numpy>=1.17 in c:\\users\\cuburt.balanon\\appdata\\roaming\\python\\python311\\site-packages (from transformers) (1.25.2)\n",
      "Requirement already satisfied: packaging>=20.0 in c:\\users\\cuburt.balanon\\anaconda3\\envs\\cpu-inference\\lib\\site-packages (from transformers) (23.1)\n",
      "Requirement already satisfied: pyyaml>=5.1 in c:\\users\\cuburt.balanon\\appdata\\roaming\\python\\python311\\site-packages (from transformers) (6.0.1)\n",
      "Requirement already satisfied: regex!=2019.12.17 in c:\\users\\cuburt.balanon\\appdata\\roaming\\python\\python311\\site-packages (from transformers) (2023.8.8)\n",
      "Requirement already satisfied: requests in c:\\users\\cuburt.balanon\\appdata\\roaming\\python\\python311\\site-packages (from transformers) (2.31.0)\n",
      "Requirement already satisfied: tokenizers!=0.11.3,<0.14,>=0.11.1 in c:\\users\\cuburt.balanon\\appdata\\roaming\\python\\python311\\site-packages (from transformers) (0.13.3)\n",
      "Requirement already satisfied: safetensors>=0.3.1 in c:\\users\\cuburt.balanon\\appdata\\roaming\\python\\python311\\site-packages (from transformers) (0.3.3)\n",
      "Requirement already satisfied: pyarrow>=8.0.0 in c:\\users\\cuburt.balanon\\appdata\\roaming\\python\\python311\\site-packages (from datasets) (13.0.0)\n",
      "Requirement already satisfied: dill<0.3.8,>=0.3.0 in c:\\users\\cuburt.balanon\\appdata\\roaming\\python\\python311\\site-packages (from datasets) (0.3.7)\n",
      "Requirement already satisfied: pandas in c:\\users\\cuburt.balanon\\appdata\\roaming\\python\\python311\\site-packages (from datasets) (2.1.0)\n",
      "Requirement already satisfied: xxhash in c:\\users\\cuburt.balanon\\appdata\\roaming\\python\\python311\\site-packages (from datasets) (3.3.0)\n",
      "Requirement already satisfied: multiprocess in c:\\users\\cuburt.balanon\\appdata\\roaming\\python\\python311\\site-packages (from datasets) (0.70.15)\n",
      "Requirement already satisfied: fsspec[http]>=2021.11.1 in c:\\users\\cuburt.balanon\\appdata\\roaming\\python\\python311\\site-packages (from datasets) (2023.9.0)\n",
      "Requirement already satisfied: aiohttp in c:\\users\\cuburt.balanon\\appdata\\roaming\\python\\python311\\site-packages (from datasets) (3.8.5)\n",
      "Requirement already satisfied: responses<0.19 in c:\\users\\cuburt.balanon\\appdata\\roaming\\python\\python311\\site-packages (from evaluate) (0.18.0)\n",
      "Requirement already satisfied: colorama in c:\\users\\cuburt.balanon\\anaconda3\\envs\\cpu-inference\\lib\\site-packages (from tqdm) (0.4.6)\n",
      "Requirement already satisfied: scipy>=1.5.0 in c:\\users\\cuburt.balanon\\appdata\\roaming\\python\\python311\\site-packages (from scikit-learn) (1.11.2)\n",
      "Requirement already satisfied: joblib>=1.1.1 in c:\\users\\cuburt.balanon\\appdata\\roaming\\python\\python311\\site-packages (from scikit-learn) (1.3.2)\n",
      "Requirement already satisfied: threadpoolctl>=2.0.0 in c:\\users\\cuburt.balanon\\appdata\\roaming\\python\\python311\\site-packages (from scikit-learn) (3.2.0)\n",
      "Requirement already satisfied: typing-extensions in c:\\users\\cuburt.balanon\\appdata\\roaming\\python\\python311\\site-packages (from torch) (4.7.1)\n",
      "Requirement already satisfied: sympy in c:\\users\\cuburt.balanon\\appdata\\roaming\\python\\python311\\site-packages (from torch) (1.12)\n",
      "Requirement already satisfied: networkx in c:\\users\\cuburt.balanon\\appdata\\roaming\\python\\python311\\site-packages (from torch) (3.1)\n",
      "Requirement already satisfied: jinja2 in c:\\users\\cuburt.balanon\\appdata\\roaming\\python\\python311\\site-packages (from torch) (3.1.2)\n",
      "Requirement already satisfied: attrs>=17.3.0 in c:\\users\\cuburt.balanon\\appdata\\roaming\\python\\python311\\site-packages (from aiohttp->datasets) (23.1.0)\n",
      "Requirement already satisfied: charset-normalizer<4.0,>=2.0 in c:\\users\\cuburt.balanon\\appdata\\roaming\\python\\python311\\site-packages (from aiohttp->datasets) (3.2.0)\n",
      "Requirement already satisfied: multidict<7.0,>=4.5 in c:\\users\\cuburt.balanon\\appdata\\roaming\\python\\python311\\site-packages (from aiohttp->datasets) (6.0.4)\n",
      "Requirement already satisfied: async-timeout<5.0,>=4.0.0a3 in c:\\users\\cuburt.balanon\\appdata\\roaming\\python\\python311\\site-packages (from aiohttp->datasets) (4.0.3)\n",
      "Requirement already satisfied: yarl<2.0,>=1.0 in c:\\users\\cuburt.balanon\\appdata\\roaming\\python\\python311\\site-packages (from aiohttp->datasets) (1.9.2)\n",
      "Requirement already satisfied: frozenlist>=1.1.1 in c:\\users\\cuburt.balanon\\appdata\\roaming\\python\\python311\\site-packages (from aiohttp->datasets) (1.4.0)\n",
      "Requirement already satisfied: aiosignal>=1.1.2 in c:\\users\\cuburt.balanon\\appdata\\roaming\\python\\python311\\site-packages (from aiohttp->datasets) (1.3.1)\n",
      "Requirement already satisfied: idna<4,>=2.5 in c:\\users\\cuburt.balanon\\appdata\\roaming\\python\\python311\\site-packages (from requests->transformers) (3.4)\n",
      "Requirement already satisfied: urllib3<3,>=1.21.1 in c:\\users\\cuburt.balanon\\appdata\\roaming\\python\\python311\\site-packages (from requests->transformers) (2.0.4)\n",
      "Requirement already satisfied: certifi>=2017.4.17 in c:\\users\\cuburt.balanon\\appdata\\roaming\\python\\python311\\site-packages (from requests->transformers) (2023.7.22)\n",
      "Requirement already satisfied: MarkupSafe>=2.0 in c:\\users\\cuburt.balanon\\appdata\\roaming\\python\\python311\\site-packages (from jinja2->torch) (2.1.3)\n",
      "Requirement already satisfied: python-dateutil>=2.8.2 in c:\\users\\cuburt.balanon\\anaconda3\\envs\\cpu-inference\\lib\\site-packages (from pandas->datasets) (2.8.2)\n",
      "Requirement already satisfied: pytz>=2020.1 in c:\\users\\cuburt.balanon\\appdata\\roaming\\python\\python311\\site-packages (from pandas->datasets) (2023.3.post1)\n",
      "Requirement already satisfied: tzdata>=2022.1 in c:\\users\\cuburt.balanon\\appdata\\roaming\\python\\python311\\site-packages (from pandas->datasets) (2023.3)\n",
      "Requirement already satisfied: mpmath>=0.19 in c:\\users\\cuburt.balanon\\appdata\\roaming\\python\\python311\\site-packages (from sympy->torch) (1.3.0)\n",
      "Requirement already satisfied: six>=1.5 in c:\\users\\cuburt.balanon\\anaconda3\\envs\\cpu-inference\\lib\\site-packages (from python-dateutil>=2.8.2->pandas->datasets) (1.16.0)\n"
     ]
    }
   ],
   "source": [
    "!pip install transformers datasets evaluate tqdm scikit-learn torch --user"
   ]
  },
  {
   "cell_type": "code",
   "execution_count": 3,
   "id": "9f730300-a18c-4d31-af7e-11e514bfa983",
   "metadata": {},
   "outputs": [
    {
     "name": "stdout",
     "output_type": "stream",
     "text": [
      "Requirement already satisfied: optimum[onnxruntime] in c:\\users\\cuburt.balanon\\appdata\\roaming\\python\\python311\\site-packages (1.12.0)\n",
      "Requirement already satisfied: coloredlogs in c:\\users\\cuburt.balanon\\appdata\\roaming\\python\\python311\\site-packages (from optimum[onnxruntime]) (15.0.1)\n",
      "Requirement already satisfied: sympy in c:\\users\\cuburt.balanon\\appdata\\roaming\\python\\python311\\site-packages (from optimum[onnxruntime]) (1.12)\n",
      "Requirement already satisfied: transformers[sentencepiece]>=4.26.0 in c:\\users\\cuburt.balanon\\appdata\\roaming\\python\\python311\\site-packages (from optimum[onnxruntime]) (4.33.0)\n",
      "Requirement already satisfied: torch>=1.9 in c:\\users\\cuburt.balanon\\appdata\\roaming\\python\\python311\\site-packages (from optimum[onnxruntime]) (2.0.1)\n",
      "Requirement already satisfied: packaging in c:\\users\\cuburt.balanon\\anaconda3\\envs\\cpu-inference\\lib\\site-packages (from optimum[onnxruntime]) (23.1)\n",
      "Requirement already satisfied: numpy in c:\\users\\cuburt.balanon\\appdata\\roaming\\python\\python311\\site-packages (from optimum[onnxruntime]) (1.25.2)\n",
      "Requirement already satisfied: huggingface-hub>=0.8.0 in c:\\users\\cuburt.balanon\\appdata\\roaming\\python\\python311\\site-packages (from optimum[onnxruntime]) (0.16.4)\n",
      "Requirement already satisfied: datasets in c:\\users\\cuburt.balanon\\appdata\\roaming\\python\\python311\\site-packages (from optimum[onnxruntime]) (2.14.4)\n",
      "Requirement already satisfied: onnx in c:\\users\\cuburt.balanon\\appdata\\roaming\\python\\python311\\site-packages (from optimum[onnxruntime]) (1.14.1)\n",
      "Requirement already satisfied: onnxruntime>=1.11.0 in c:\\users\\cuburt.balanon\\appdata\\roaming\\python\\python311\\site-packages (from optimum[onnxruntime]) (1.15.1)\n",
      "Requirement already satisfied: evaluate in c:\\users\\cuburt.balanon\\appdata\\roaming\\python\\python311\\site-packages (from optimum[onnxruntime]) (0.4.0)\n",
      "Requirement already satisfied: protobuf>=3.20.1 in c:\\users\\cuburt.balanon\\appdata\\roaming\\python\\python311\\site-packages (from optimum[onnxruntime]) (4.24.2)\n",
      "Requirement already satisfied: pyarrow>=8.0.0 in c:\\users\\cuburt.balanon\\appdata\\roaming\\python\\python311\\site-packages (from datasets->optimum[onnxruntime]) (13.0.0)\n",
      "Requirement already satisfied: dill<0.3.8,>=0.3.0 in c:\\users\\cuburt.balanon\\appdata\\roaming\\python\\python311\\site-packages (from datasets->optimum[onnxruntime]) (0.3.7)\n",
      "Requirement already satisfied: pandas in c:\\users\\cuburt.balanon\\appdata\\roaming\\python\\python311\\site-packages (from datasets->optimum[onnxruntime]) (2.1.0)\n",
      "Requirement already satisfied: requests>=2.19.0 in c:\\users\\cuburt.balanon\\appdata\\roaming\\python\\python311\\site-packages (from datasets->optimum[onnxruntime]) (2.31.0)\n",
      "Requirement already satisfied: tqdm>=4.62.1 in c:\\users\\cuburt.balanon\\appdata\\roaming\\python\\python311\\site-packages (from datasets->optimum[onnxruntime]) (4.66.1)\n",
      "Requirement already satisfied: xxhash in c:\\users\\cuburt.balanon\\appdata\\roaming\\python\\python311\\site-packages (from datasets->optimum[onnxruntime]) (3.3.0)\n",
      "Requirement already satisfied: multiprocess in c:\\users\\cuburt.balanon\\appdata\\roaming\\python\\python311\\site-packages (from datasets->optimum[onnxruntime]) (0.70.15)\n",
      "Requirement already satisfied: fsspec[http]>=2021.11.1 in c:\\users\\cuburt.balanon\\appdata\\roaming\\python\\python311\\site-packages (from datasets->optimum[onnxruntime]) (2023.9.0)\n",
      "Requirement already satisfied: aiohttp in c:\\users\\cuburt.balanon\\appdata\\roaming\\python\\python311\\site-packages (from datasets->optimum[onnxruntime]) (3.8.5)\n",
      "Requirement already satisfied: pyyaml>=5.1 in c:\\users\\cuburt.balanon\\appdata\\roaming\\python\\python311\\site-packages (from datasets->optimum[onnxruntime]) (6.0.1)\n",
      "Requirement already satisfied: filelock in c:\\users\\cuburt.balanon\\appdata\\roaming\\python\\python311\\site-packages (from huggingface-hub>=0.8.0->optimum[onnxruntime]) (3.12.3)\n",
      "Requirement already satisfied: typing-extensions>=3.7.4.3 in c:\\users\\cuburt.balanon\\appdata\\roaming\\python\\python311\\site-packages (from huggingface-hub>=0.8.0->optimum[onnxruntime]) (4.7.1)\n",
      "Requirement already satisfied: flatbuffers in c:\\users\\cuburt.balanon\\appdata\\roaming\\python\\python311\\site-packages (from onnxruntime>=1.11.0->optimum[onnxruntime]) (23.5.26)\n",
      "Requirement already satisfied: networkx in c:\\users\\cuburt.balanon\\appdata\\roaming\\python\\python311\\site-packages (from torch>=1.9->optimum[onnxruntime]) (3.1)\n",
      "Requirement already satisfied: jinja2 in c:\\users\\cuburt.balanon\\appdata\\roaming\\python\\python311\\site-packages (from torch>=1.9->optimum[onnxruntime]) (3.1.2)\n",
      "Requirement already satisfied: regex!=2019.12.17 in c:\\users\\cuburt.balanon\\appdata\\roaming\\python\\python311\\site-packages (from transformers[sentencepiece]>=4.26.0->optimum[onnxruntime]) (2023.8.8)\n",
      "Requirement already satisfied: tokenizers!=0.11.3,<0.14,>=0.11.1 in c:\\users\\cuburt.balanon\\appdata\\roaming\\python\\python311\\site-packages (from transformers[sentencepiece]>=4.26.0->optimum[onnxruntime]) (0.13.3)\n",
      "Requirement already satisfied: safetensors>=0.3.1 in c:\\users\\cuburt.balanon\\appdata\\roaming\\python\\python311\\site-packages (from transformers[sentencepiece]>=4.26.0->optimum[onnxruntime]) (0.3.3)\n",
      "Requirement already satisfied: sentencepiece!=0.1.92,>=0.1.91 in c:\\users\\cuburt.balanon\\appdata\\roaming\\python\\python311\\site-packages (from transformers[sentencepiece]>=4.26.0->optimum[onnxruntime]) (0.1.99)\n",
      "Requirement already satisfied: humanfriendly>=9.1 in c:\\users\\cuburt.balanon\\appdata\\roaming\\python\\python311\\site-packages (from coloredlogs->optimum[onnxruntime]) (10.0)\n",
      "Requirement already satisfied: responses<0.19 in c:\\users\\cuburt.balanon\\appdata\\roaming\\python\\python311\\site-packages (from evaluate->optimum[onnxruntime]) (0.18.0)\n",
      "Requirement already satisfied: mpmath>=0.19 in c:\\users\\cuburt.balanon\\appdata\\roaming\\python\\python311\\site-packages (from sympy->optimum[onnxruntime]) (1.3.0)\n",
      "Requirement already satisfied: attrs>=17.3.0 in c:\\users\\cuburt.balanon\\appdata\\roaming\\python\\python311\\site-packages (from aiohttp->datasets->optimum[onnxruntime]) (23.1.0)\n",
      "Requirement already satisfied: charset-normalizer<4.0,>=2.0 in c:\\users\\cuburt.balanon\\appdata\\roaming\\python\\python311\\site-packages (from aiohttp->datasets->optimum[onnxruntime]) (3.2.0)\n",
      "Requirement already satisfied: multidict<7.0,>=4.5 in c:\\users\\cuburt.balanon\\appdata\\roaming\\python\\python311\\site-packages (from aiohttp->datasets->optimum[onnxruntime]) (6.0.4)\n",
      "Requirement already satisfied: async-timeout<5.0,>=4.0.0a3 in c:\\users\\cuburt.balanon\\appdata\\roaming\\python\\python311\\site-packages (from aiohttp->datasets->optimum[onnxruntime]) (4.0.3)\n",
      "Requirement already satisfied: yarl<2.0,>=1.0 in c:\\users\\cuburt.balanon\\appdata\\roaming\\python\\python311\\site-packages (from aiohttp->datasets->optimum[onnxruntime]) (1.9.2)\n",
      "Requirement already satisfied: frozenlist>=1.1.1 in c:\\users\\cuburt.balanon\\appdata\\roaming\\python\\python311\\site-packages (from aiohttp->datasets->optimum[onnxruntime]) (1.4.0)\n",
      "Requirement already satisfied: aiosignal>=1.1.2 in c:\\users\\cuburt.balanon\\appdata\\roaming\\python\\python311\\site-packages (from aiohttp->datasets->optimum[onnxruntime]) (1.3.1)\n",
      "Requirement already satisfied: pyreadline3 in c:\\users\\cuburt.balanon\\appdata\\roaming\\python\\python311\\site-packages (from humanfriendly>=9.1->coloredlogs->optimum[onnxruntime]) (3.4.1)\n",
      "Requirement already satisfied: idna<4,>=2.5 in c:\\users\\cuburt.balanon\\appdata\\roaming\\python\\python311\\site-packages (from requests>=2.19.0->datasets->optimum[onnxruntime]) (3.4)\n",
      "Requirement already satisfied: urllib3<3,>=1.21.1 in c:\\users\\cuburt.balanon\\appdata\\roaming\\python\\python311\\site-packages (from requests>=2.19.0->datasets->optimum[onnxruntime]) (2.0.4)\n",
      "Requirement already satisfied: certifi>=2017.4.17 in c:\\users\\cuburt.balanon\\appdata\\roaming\\python\\python311\\site-packages (from requests>=2.19.0->datasets->optimum[onnxruntime]) (2023.7.22)\n",
      "Requirement already satisfied: colorama in c:\\users\\cuburt.balanon\\anaconda3\\envs\\cpu-inference\\lib\\site-packages (from tqdm>=4.62.1->datasets->optimum[onnxruntime]) (0.4.6)\n",
      "Requirement already satisfied: MarkupSafe>=2.0 in c:\\users\\cuburt.balanon\\appdata\\roaming\\python\\python311\\site-packages (from jinja2->torch>=1.9->optimum[onnxruntime]) (2.1.3)\n",
      "Requirement already satisfied: python-dateutil>=2.8.2 in c:\\users\\cuburt.balanon\\anaconda3\\envs\\cpu-inference\\lib\\site-packages (from pandas->datasets->optimum[onnxruntime]) (2.8.2)\n",
      "Requirement already satisfied: pytz>=2020.1 in c:\\users\\cuburt.balanon\\appdata\\roaming\\python\\python311\\site-packages (from pandas->datasets->optimum[onnxruntime]) (2023.3.post1)\n",
      "Requirement already satisfied: tzdata>=2022.1 in c:\\users\\cuburt.balanon\\appdata\\roaming\\python\\python311\\site-packages (from pandas->datasets->optimum[onnxruntime]) (2023.3)\n",
      "Requirement already satisfied: six>=1.5 in c:\\users\\cuburt.balanon\\anaconda3\\envs\\cpu-inference\\lib\\site-packages (from python-dateutil>=2.8.2->pandas->datasets->optimum[onnxruntime]) (1.16.0)\n"
     ]
    }
   ],
   "source": [
    "!pip install --upgrade-strategy eager optimum[onnxruntime] --user"
   ]
  },
  {
   "cell_type": "code",
   "execution_count": 4,
   "id": "55600bc6-3efd-4214-ae70-31026195653b",
   "metadata": {},
   "outputs": [
    {
     "name": "stderr",
     "output_type": "stream",
     "text": [
      "C:\\Users\\cuburt.balanon\\AppData\\Roaming\\Python\\Python311\\site-packages\\tqdm\\auto.py:21: TqdmWarning: IProgress not found. Please update jupyter and ipywidgets. See https://ipywidgets.readthedocs.io/en/stable/user_install.html\n",
      "  from .autonotebook import tqdm as notebook_tqdm\n"
     ]
    }
   ],
   "source": [
    "from optimum.pipelines import pipeline\n",
    "from transformers import AutoTokenizer\n",
    "from optimum.onnxruntime import ORTModelForSequenceClassification\n",
    "import evaluate\n",
    "from datasets import load_dataset\n",
    "import tqdm as notebook_tqdm"
   ]
  },
  {
   "cell_type": "code",
   "execution_count": 5,
   "id": "e5d815e0-391b-4d1c-841c-d9066e239452",
   "metadata": {},
   "outputs": [],
   "source": [
    "from optimum.onnxruntime import ORTOptimizer\n",
    "from optimum.onnxruntime.configuration import OptimizationConfig"
   ]
  },
  {
   "cell_type": "code",
   "execution_count": 7,
   "id": "bec3b876-ed47-4975-9a17-c69674d080de",
   "metadata": {},
   "outputs": [],
   "source": [
    "dataset = load_dataset(\"yahoo_answers_topics\", split=\"test\").shuffle().select(range(500))"
   ]
  },
  {
   "cell_type": "code",
   "execution_count": 8,
   "id": "ff451717-0cb7-4d35-b0d2-588586537899",
   "metadata": {},
   "outputs": [
    {
     "name": "stderr",
     "output_type": "stream",
     "text": [
      "The argument `from_transformers` is deprecated, and will be removed in optimum 2.0.  Use `export` instead\n",
      "Framework not specified. Using pt to export to ONNX.\n",
      "Using framework PyTorch: 2.0.1+cpu\n",
      "Overriding 1 configuration item(s)\n",
      "\t- use_cache -> False\n",
      "C:\\Users\\cuburt.balanon\\AppData\\Roaming\\Python\\Python311\\site-packages\\transformers\\models\\bart\\modeling_bart.py:239: TracerWarning: Converting a tensor to a Python boolean might cause the trace to be incorrect. We can't record the data flow of Python values, so this value will be treated as a constant in the future. This means that the trace might not generalize to other inputs!\n",
      "  if attn_weights.size() != (bsz * self.num_heads, tgt_len, src_len):\n",
      "C:\\Users\\cuburt.balanon\\AppData\\Roaming\\Python\\Python311\\site-packages\\transformers\\models\\bart\\modeling_bart.py:246: TracerWarning: Converting a tensor to a Python boolean might cause the trace to be incorrect. We can't record the data flow of Python values, so this value will be treated as a constant in the future. This means that the trace might not generalize to other inputs!\n",
      "  if attention_mask.size() != (bsz, 1, tgt_len, src_len):\n",
      "C:\\Users\\cuburt.balanon\\AppData\\Roaming\\Python\\Python311\\site-packages\\transformers\\models\\bart\\modeling_bart.py:278: TracerWarning: Converting a tensor to a Python boolean might cause the trace to be incorrect. We can't record the data flow of Python values, so this value will be treated as a constant in the future. This means that the trace might not generalize to other inputs!\n",
      "  if attn_output.size() != (bsz * self.num_heads, tgt_len, self.head_dim):\n",
      "C:\\Users\\cuburt.balanon\\AppData\\Roaming\\Python\\Python311\\site-packages\\transformers\\models\\bart\\modeling_bart.py:936: TracerWarning: Converting a tensor to a Python boolean might cause the trace to be incorrect. We can't record the data flow of Python values, so this value will be treated as a constant in the future. This means that the trace might not generalize to other inputs!\n",
      "  if input_shape[-1] > 1:\n",
      "C:\\Users\\cuburt.balanon\\AppData\\Roaming\\Python\\Python311\\site-packages\\transformers\\models\\bart\\modeling_bart.py:1558: TracerWarning: Using len to get tensor shape might cause the trace to be incorrect. Recommended usage would be tensor.shape[0]. Passing a tensor of different shape might lead to errors or silently give incorrect results.\n",
      "  if len(torch.unique_consecutive(eos_mask.sum(1))) > 1:\n"
     ]
    },
    {
     "name": "stdout",
     "output_type": "stream",
     "text": [
      "============== Diagnostic Run torch.onnx.export version 2.0.1+cpu ==============\n",
      "verbose: False, log level: Level.ERROR\n",
      "======================= 0 NONE 0 NOTE 0 WARNING 0 ERROR ========================\n",
      "\n"
     ]
    },
    {
     "data": {
      "text/plain": [
       "('tmp/onnx\\\\tokenizer_config.json',\n",
       " 'tmp/onnx\\\\special_tokens_map.json',\n",
       " 'tmp/onnx\\\\vocab.json',\n",
       " 'tmp/onnx\\\\merges.txt',\n",
       " 'tmp/onnx\\\\added_tokens.json',\n",
       " 'tmp/onnx\\\\tokenizer.json')"
      ]
     },
     "execution_count": 8,
     "metadata": {},
     "output_type": "execute_result"
    }
   ],
   "source": [
    "task_type = \"zero-shot-classification\"\n",
    "\n",
    "metric = evaluate.load(\"accuracy\")\n",
    "# evaluator = evaluate.evaluator(task_type)\n",
    "save_directory = \"tmp/onnx\"\n",
    "model_id = \"facebook/bart-large-mnli\"\n",
    "model = ORTModelForSequenceClassification.from_pretrained(model_id, from_transformers=True, export=True)\n",
    "tokenizer = AutoTokenizer.from_pretrained(model_id)\n",
    "model.save_pretrained(save_directory)\n",
    "tokenizer.save_pretrained(save_directory)"
   ]
  },
  {
   "cell_type": "code",
   "execution_count": 9,
   "id": "5bf0f670-ee0d-4bff-a9ac-5f07c93e48c2",
   "metadata": {},
   "outputs": [],
   "source": [
    "classifier = pipeline(task_type, model=model, tokenizer=tokenizer)"
   ]
  },
  {
   "cell_type": "code",
   "execution_count": 10,
   "id": "1c0ca7b4-f6f9-4f06-852a-d69dc2891f0a",
   "metadata": {},
   "outputs": [
    {
     "name": "stderr",
     "output_type": "stream",
     "text": [
      "C:\\Users\\cuburt.balanon\\AppData\\Roaming\\Python\\Python311\\site-packages\\optimum\\onnxruntime\\configuration.py:765: FutureWarning: disable_embed_layer_norm will be deprecated soon, use disable_embed_layer_norm_fusion instead, disable_embed_layer_norm_fusion is set to True.\n",
      "  warnings.warn(\n",
      "Optimizing model...\n",
      "Configuration saved in tmp\\onnx\\ort_config.json\n",
      "Optimized model saved at: tmp\\onnx (external data format: False; saved all tensor to one file: True)\n"
     ]
    },
    {
     "data": {
      "text/plain": [
       "WindowsPath('tmp/onnx')"
      ]
     },
     "execution_count": 10,
     "metadata": {},
     "output_type": "execute_result"
    }
   ],
   "source": [
    "optimizer = ORTOptimizer.from_pretrained(model)\n",
    "optimizer.optimize(OptimizationConfig(optimization_level=99), save_dir=save_directory)"
   ]
  },
  {
   "cell_type": "code",
   "execution_count": 11,
   "id": "b30bf065-f674-4402-b9ba-d93b3de1a715",
   "metadata": {},
   "outputs": [],
   "source": [
    "model_optimized = ORTModelForSequenceClassification.from_pretrained(save_directory, file_name=\"model_optimized.onnx\")"
   ]
  },
  {
   "cell_type": "code",
   "execution_count": 12,
   "id": "b729c57b-1950-48b9-b456-9b4488bd034a",
   "metadata": {},
   "outputs": [],
   "source": [
    "classifier_optimized = pipeline(task_type, model=model_optimized, tokenizer=tokenizer, accelerator='ort')"
   ]
  },
  {
   "cell_type": "code",
   "execution_count": 14,
   "id": "8774829b-809a-4dab-8674-de7ae7847925",
   "metadata": {},
   "outputs": [],
   "source": [
    "from optimum.onnxruntime import ORTQuantizer\n",
    "from optimum.onnxruntime.configuration import AutoQuantizationConfig"
   ]
  },
  {
   "cell_type": "code",
   "execution_count": 15,
   "id": "aec03ba1-146d-4a89-8f29-9365ba485ec9",
   "metadata": {},
   "outputs": [
    {
     "name": "stderr",
     "output_type": "stream",
     "text": [
      "Creating dynamic quantizer: QOperator (mode: IntegerOps, schema: u8/u8, channel-wise: True)\n",
      "Quantizing model...\n",
      "Saving quantized model at: tmp\\onnx (external data format: False)\n",
      "Configuration saved in tmp\\onnx\\ort_config.json\n"
     ]
    }
   ],
   "source": [
    "quantizer = ORTQuantizer.from_pretrained(model_optimized)\n",
    "qconfig = AutoQuantizationConfig.avx2(is_static=False, per_channel=True, reduce_range=True)\n",
    "quantizer.quantize(save_dir=save_directory, quantization_config=qconfig)\n",
    "model_quantized = ORTModelForSequenceClassification.from_pretrained(save_directory, file_name=\"model_quantized.onnx\")"
   ]
  },
  {
   "cell_type": "code",
   "execution_count": 16,
   "id": "37f9dd32-e518-414f-839b-1639c21bd963",
   "metadata": {},
   "outputs": [],
   "source": [
    "classifier_quantized = pipeline(task_type, model=model_quantized, tokenizer=tokenizer, accelerator='ort')"
   ]
  },
  {
   "cell_type": "code",
   "execution_count": 17,
   "id": "67c5901d-5185-4f22-a0d7-3ee0d72d35a2",
   "metadata": {},
   "outputs": [],
   "source": [
    "import time\n",
    "from sklearn.metrics import accuracy_score\n",
    "import numpy as np\n",
    "\n",
    "def evaluate_pipeline(pipeline):\n",
    "    y_pred = []\n",
    "    speed = []\n",
    "    for i, row in enumerate(dataset):\n",
    "        start_time = time.time()*1000\n",
    "        res = pipeline(row[\"question_title\"], candidate_labels)\n",
    "        end_time = time.time()*1000\n",
    "        pred = res['labels'][res['scores'].index(max(res['scores']))]\n",
    "        latency = end_time - start_time\n",
    "        # print('Inference ', i, '\\n', row[\"question_title\"], '\\nPrediction: ', pred, '\\nLabel: ', dataset.features[\"topic\"].int2str(i), '\\nLatency: ', latency)\n",
    "        y_pred.append(pred)\n",
    "        speed.append(latency)\n",
    "    print(np.mean(speed))\n",
    "    print(accuracy_score(y_true, y_pred))"
   ]
  },
  {
   "cell_type": "code",
   "execution_count": 18,
   "id": "91337d2c-81f6-4ecf-aa56-59b0a65d4eed",
   "metadata": {},
   "outputs": [],
   "source": [
    "candidate_labels = dataset.features[\"topic\"].int2str(set(dataset[\"topic\"]))"
   ]
  },
  {
   "cell_type": "code",
   "execution_count": 19,
   "id": "413ffcfb-30f8-4969-8ac2-ecc9d78e08b3",
   "metadata": {},
   "outputs": [],
   "source": [
    "y_true = dataset.features[\"topic\"].int2str(dataset[\"topic\"])"
   ]
  },
  {
   "cell_type": "code",
   "execution_count": 20,
   "id": "93910851-c07d-40c6-a2d0-480aab34ad76",
   "metadata": {},
   "outputs": [
    {
     "name": "stdout",
     "output_type": "stream",
     "text": [
      "1167.1261821289063\n",
      "0.456\n"
     ]
    }
   ],
   "source": [
    "evaluate_pipeline(classifier)"
   ]
  },
  {
   "cell_type": "code",
   "execution_count": 21,
   "id": "b4df9eb9-48fc-4e97-b88c-7171eef995cc",
   "metadata": {},
   "outputs": [
    {
     "name": "stdout",
     "output_type": "stream",
     "text": [
      "1088.7857856445312\n",
      "0.456\n"
     ]
    }
   ],
   "source": [
    "evaluate_pipeline(classifier_optimized)"
   ]
  },
  {
   "cell_type": "code",
   "execution_count": 22,
   "id": "bdcb05e7-73c3-43d9-9a1c-8fc46af853fa",
   "metadata": {},
   "outputs": [
    {
     "name": "stdout",
     "output_type": "stream",
     "text": [
      "849.9055986328125\n",
      "0.162\n"
     ]
    }
   ],
   "source": [
    "evaluate_pipeline(classifier_quantized)"
   ]
  },
  {
   "cell_type": "code",
   "execution_count": null,
   "id": "a514cfd3-28c0-49ee-ab2d-05e6dea36c04",
   "metadata": {},
   "outputs": [],
   "source": []
  }
 ],
 "metadata": {
  "kernelspec": {
   "display_name": "Python [conda env:cpu-inference]",
   "language": "python",
   "name": "conda-env-cpu-inference-py"
  },
  "language_info": {
   "codemirror_mode": {
    "name": "ipython",
    "version": 3
   },
   "file_extension": ".py",
   "mimetype": "text/x-python",
   "name": "python",
   "nbconvert_exporter": "python",
   "pygments_lexer": "ipython3",
   "version": "3.11.4"
  }
 },
 "nbformat": 4,
 "nbformat_minor": 5
}
