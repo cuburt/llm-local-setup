{
 "cells": [
  {
   "cell_type": "code",
   "execution_count": 1,
   "id": "83766b4f-ae41-450e-a477-773ccfb41644",
   "metadata": {},
   "outputs": [
    {
     "name": "stdout",
     "output_type": "stream",
     "text": [
      "Python 3.9.17\n"
     ]
    }
   ],
   "source": [
    "!python -V"
   ]
  },
  {
   "cell_type": "code",
   "execution_count": 2,
   "id": "77b81eeb-6f55-4094-aedc-713703c39a83",
   "metadata": {},
   "outputs": [
    {
     "name": "stdout",
     "output_type": "stream",
     "text": [
      "Collecting transformers\n",
      "  Using cached transformers-4.33.0-py3-none-any.whl (7.6 MB)\n",
      "Collecting datasets\n",
      "  Using cached datasets-2.14.4-py3-none-any.whl (519 kB)\n",
      "Collecting evaluate\n",
      "  Using cached evaluate-0.4.0-py3-none-any.whl (81 kB)\n",
      "Collecting tqdm\n",
      "  Using cached tqdm-4.66.1-py3-none-any.whl (78 kB)\n",
      "Collecting scikit-learn\n",
      "  Downloading scikit_learn-1.3.0-cp39-cp39-win_amd64.whl (9.3 MB)\n",
      "     ---------------------------------------- 9.3/9.3 MB 7.7 MB/s eta 0:00:00\n",
      "Collecting requests\n",
      "  Using cached requests-2.31.0-py3-none-any.whl (62 kB)\n",
      "Collecting regex!=2019.12.17\n",
      "  Downloading regex-2023.8.8-cp39-cp39-win_amd64.whl (268 kB)\n",
      "     ------------------------------------- 268.4/268.4 kB 16.1 MB/s eta 0:00:00\n",
      "Requirement already satisfied: packaging>=20.0 in c:\\users\\cuburt.balanon\\appdata\\roaming\\python\\python39\\site-packages (from transformers) (23.1)\n",
      "Requirement already satisfied: pyyaml>=5.1 in c:\\users\\cuburt.balanon\\appdata\\roaming\\python\\python39\\site-packages (from transformers) (6.0)\n",
      "Collecting huggingface-hub<1.0,>=0.15.1\n",
      "  Using cached huggingface_hub-0.16.4-py3-none-any.whl (268 kB)\n",
      "Collecting tokenizers!=0.11.3,<0.14,>=0.11.1\n",
      "  Downloading tokenizers-0.13.3-cp39-cp39-win_amd64.whl (3.5 MB)\n",
      "     ---------------------------------------- 3.5/3.5 MB 10.1 MB/s eta 0:00:00\n",
      "Collecting numpy>=1.17\n",
      "  Downloading numpy-1.25.2-cp39-cp39-win_amd64.whl (15.6 MB)\n",
      "     --------------------------------------- 15.6/15.6 MB 31.2 MB/s eta 0:00:00\n",
      "Collecting filelock\n",
      "  Using cached filelock-3.12.3-py3-none-any.whl (11 kB)\n",
      "Collecting safetensors>=0.3.1\n",
      "  Downloading safetensors-0.3.3-cp39-cp39-win_amd64.whl (266 kB)\n",
      "     ------------------------------------- 266.4/266.4 kB 17.1 MB/s eta 0:00:00\n",
      "Collecting fsspec[http]>=2021.11.1\n",
      "  Using cached fsspec-2023.9.0-py3-none-any.whl (173 kB)\n",
      "Collecting dill<0.3.8,>=0.3.0\n",
      "  Using cached dill-0.3.7-py3-none-any.whl (115 kB)\n",
      "Collecting multiprocess\n",
      "  Downloading multiprocess-0.70.15-py39-none-any.whl (133 kB)\n",
      "     -------------------------------------- 133.3/133.3 kB 7.7 MB/s eta 0:00:00\n",
      "Collecting pyarrow>=8.0.0\n",
      "  Downloading pyarrow-13.0.0-cp39-cp39-win_amd64.whl (24.4 MB)\n",
      "     --------------------------------------- 24.4/24.4 MB 31.2 MB/s eta 0:00:00\n",
      "Requirement already satisfied: pandas in c:\\users\\cuburt.balanon\\appdata\\roaming\\python\\python39\\site-packages (from datasets) (2.0.3)\n",
      "Collecting aiohttp\n",
      "  Downloading aiohttp-3.8.5-cp39-cp39-win_amd64.whl (327 kB)\n",
      "     ------------------------------------- 327.1/327.1 kB 19.8 MB/s eta 0:00:00\n",
      "Collecting xxhash\n",
      "  Downloading xxhash-3.3.0-cp39-cp39-win_amd64.whl (29 kB)\n",
      "Collecting responses<0.19\n",
      "  Using cached responses-0.18.0-py3-none-any.whl (38 kB)\n",
      "Requirement already satisfied: colorama in c:\\users\\cuburt.balanon\\appdata\\roaming\\python\\python39\\site-packages (from tqdm) (0.4.6)\n",
      "Collecting threadpoolctl>=2.0.0\n",
      "  Using cached threadpoolctl-3.2.0-py3-none-any.whl (15 kB)\n",
      "Collecting joblib>=1.1.1\n",
      "  Using cached joblib-1.3.2-py3-none-any.whl (302 kB)\n",
      "Requirement already satisfied: scipy>=1.5.0 in c:\\users\\cuburt.balanon\\appdata\\roaming\\python\\python39\\site-packages (from scikit-learn) (1.10.1)\n",
      "Collecting async-timeout<5.0,>=4.0.0a3\n",
      "  Using cached async_timeout-4.0.3-py3-none-any.whl (5.7 kB)\n",
      "Collecting yarl<2.0,>=1.0\n",
      "  Downloading yarl-1.9.2-cp39-cp39-win_amd64.whl (61 kB)\n",
      "     ---------------------------------------- 61.7/61.7 kB 3.4 MB/s eta 0:00:00\n",
      "Collecting attrs>=17.3.0\n",
      "  Using cached attrs-23.1.0-py3-none-any.whl (61 kB)\n",
      "Collecting frozenlist>=1.1.1\n",
      "  Downloading frozenlist-1.4.0-cp39-cp39-win_amd64.whl (44 kB)\n",
      "     ---------------------------------------- 44.7/44.7 kB 1.1 MB/s eta 0:00:00\n",
      "Collecting multidict<7.0,>=4.5\n",
      "  Downloading multidict-6.0.4-cp39-cp39-win_amd64.whl (28 kB)\n",
      "Collecting aiosignal>=1.1.2\n",
      "  Using cached aiosignal-1.3.1-py3-none-any.whl (7.6 kB)\n",
      "Collecting charset-normalizer<4.0,>=2.0\n",
      "  Downloading charset_normalizer-3.2.0-cp39-cp39-win_amd64.whl (96 kB)\n",
      "     ---------------------------------------- 96.9/96.9 kB 5.4 MB/s eta 0:00:00\n",
      "Requirement already satisfied: typing-extensions>=3.7.4.3 in c:\\users\\cuburt.balanon\\anaconda3\\envs\\optimum-intel\\lib\\site-packages (from huggingface-hub<1.0,>=0.15.1->transformers) (4.7.1)\n",
      "Collecting certifi>=2017.4.17\n",
      "  Using cached certifi-2023.7.22-py3-none-any.whl (158 kB)\n",
      "Collecting idna<4,>=2.5\n",
      "  Using cached idna-3.4-py3-none-any.whl (61 kB)\n",
      "Collecting urllib3<3,>=1.21.1\n",
      "  Using cached urllib3-2.0.4-py3-none-any.whl (123 kB)\n",
      "Requirement already satisfied: python-dateutil>=2.8.2 in c:\\users\\cuburt.balanon\\anaconda3\\envs\\optimum-intel\\lib\\site-packages (from pandas->datasets) (2.8.2)\n",
      "Collecting pytz>=2020.1\n",
      "  Using cached pytz-2023.3.post1-py2.py3-none-any.whl (502 kB)\n",
      "Collecting tzdata>=2022.1\n",
      "  Using cached tzdata-2023.3-py2.py3-none-any.whl (341 kB)\n",
      "Requirement already satisfied: six>=1.5 in c:\\users\\cuburt.balanon\\anaconda3\\envs\\optimum-intel\\lib\\site-packages (from python-dateutil>=2.8.2->pandas->datasets) (1.16.0)\n",
      "Installing collected packages: tokenizers, safetensors, pytz, xxhash, urllib3, tzdata, tqdm, threadpoolctl, regex, numpy, multidict, joblib, idna, fsspec, frozenlist, filelock, dill, charset-normalizer, certifi, attrs, async-timeout, yarl, requests, pyarrow, multiprocess, aiosignal, scikit-learn, responses, huggingface-hub, aiohttp, transformers, datasets, evaluate\n",
      "Successfully installed aiohttp-3.8.5 aiosignal-1.3.1 async-timeout-4.0.3 attrs-23.1.0 certifi-2023.7.22 charset-normalizer-3.2.0 datasets-2.14.4 dill-0.3.7 evaluate-0.4.0 filelock-3.12.3 frozenlist-1.4.0 fsspec-2023.9.0 huggingface-hub-0.16.4 idna-3.4 joblib-1.3.2 multidict-6.0.4 multiprocess-0.70.15 numpy-1.25.2 pyarrow-13.0.0 pytz-2023.3.post1 regex-2023.8.8 requests-2.31.0 responses-0.18.0 safetensors-0.3.3 scikit-learn-1.3.0 threadpoolctl-3.2.0 tokenizers-0.13.3 tqdm-4.66.1 transformers-4.33.0 tzdata-2023.3 urllib3-2.0.4 xxhash-3.3.0 yarl-1.9.2\n"
     ]
    },
    {
     "name": "stderr",
     "output_type": "stream",
     "text": [
      "ERROR: pip's dependency resolver does not currently take into account all the packages that are installed. This behaviour is the source of the following dependency conflicts.\n",
      "tsextract 0.0.9 requires statsmodels>=0.10.2, which is not installed.\n",
      "referencing 0.30.2 requires rpds-py>=0.7.0, which is not installed.\n",
      "pymoo 0.5.0 requires cma==2.7, which is not installed.\n",
      "plotnine 0.8.0 requires patsy>=0.5.1, which is not installed.\n",
      "plotnine 0.8.0 requires statsmodels>=0.12.1, which is not installed.\n",
      "optimum-intel 1.10.0 requires optimum>=1.8.8, which is not installed.\n",
      "optimum-intel 1.10.0 requires sentencepiece, which is not installed.\n",
      "openvino-dev 2023.0.2 requires addict>=2.4.0, which is not installed.\n",
      "openvino-dev 2023.0.2 requires jstyleson>=0.0.2, which is not installed.\n",
      "openvino-dev 2023.0.2 requires openvino-telemetry>=2022.1.0, which is not installed.\n",
      "openvino-dev 2023.0.2 requires pillow>=8.1.2, which is not installed.\n",
      "openvino-dev 2023.0.2 requires texttable>=1.6.3, which is not installed.\n",
      "onnxruntime 1.15.0 requires coloredlogs, which is not installed.\n",
      "onnxruntime 1.15.0 requires flatbuffers, which is not installed.\n",
      "onnxruntime 1.15.0 requires protobuf, which is not installed.\n",
      "onnxruntime 1.15.0 requires sympy, which is not installed.\n",
      "nncf 2.5.0 requires jstyleson>=0.0.2, which is not installed.\n",
      "nncf 2.5.0 requires ninja<1.11,>=1.10.0.post2, which is not installed.\n",
      "nncf 2.5.0 requires openvino-telemetry, which is not installed.\n",
      "nncf 2.5.0 requires pyparsing<3.0, which is not installed.\n",
      "nncf 2.5.0 requires texttable>=1.6.3, which is not installed.\n",
      "mizani 0.7.4 requires palettable, which is not installed.\n",
      "matplotlib 3.5.2 requires pillow>=6.2.0, which is not installed.\n",
      "matplotlib 3.5.2 requires pyparsing>=2.2.1, which is not installed.\n",
      "kubernetes 18.20.0 requires websocket-client!=0.40.0,!=0.41.*,!=0.42.*,>=0.32.0, which is not installed.\n",
      "kfp 1.8.12 requires click<9,>=7.1.2, which is not installed.\n",
      "kfp 1.8.12 requires cloudpickle<3,>=2.0.0, which is not installed.\n",
      "kfp 1.8.12 requires protobuf<4,>=3.13.0, which is not installed.\n",
      "kfp 1.8.12 requires strip-hints<1,>=0.1.8, which is not installed.\n",
      "kfp 1.8.12 requires tabulate<1,>=0.8.6, which is not installed.\n",
      "kfp 1.8.12 requires uritemplate<4,>=3.0.1, which is not installed.\n",
      "jsonschema 4.19.0 requires rpds-py>=0.7.1, which is not installed.\n",
      "google-cloud-storage 1.44.0 requires protobuf; python_version >= \"3.6\", which is not installed.\n",
      "google-api-core 2.8.2 requires protobuf<5.0.0dev,>=3.15.0, which is not installed.\n",
      "accelerate 0.22.0 requires torch>=1.10.0, which is not installed.\n",
      "nncf 2.5.0 requires numpy<1.24,>=1.19.1, but you have numpy 1.25.2 which is incompatible.\n",
      "kfp 1.8.12 requires jsonschema<4,>=3.0.1, but you have jsonschema 4.19.0 which is incompatible.\n",
      "kfp 1.8.12 requires PyYAML<6,>=5.3, but you have pyyaml 6.0 which is incompatible.\n",
      "WARNING: There was an error checking the latest version of pip.\n"
     ]
    }
   ],
   "source": [
    "!pip install transformers datasets evaluate tqdm scikit-learn"
   ]
  },
  {
   "cell_type": "code",
   "execution_count": 5,
   "id": "37286794-f390-402c-ac9e-5033c86455b6",
   "metadata": {},
   "outputs": [
    {
     "name": "stdout",
     "output_type": "stream",
     "text": [
      "Requirement already satisfied: optimum[nncf,openvino] in c:\\users\\cuburt.balanon\\anaconda3\\envs\\optimum-intel\\lib\\site-packages (1.12.0)\n",
      "Requirement already satisfied: coloredlogs in c:\\users\\cuburt.balanon\\anaconda3\\envs\\optimum-intel\\lib\\site-packages (from optimum[nncf,openvino]) (15.0.1)\n",
      "Requirement already satisfied: packaging in c:\\users\\cuburt.balanon\\appdata\\roaming\\python\\python39\\site-packages (from optimum[nncf,openvino]) (23.1)\n",
      "Requirement already satisfied: sympy in c:\\users\\cuburt.balanon\\anaconda3\\envs\\optimum-intel\\lib\\site-packages (from optimum[nncf,openvino]) (1.12)\n",
      "Requirement already satisfied: numpy in c:\\users\\cuburt.balanon\\anaconda3\\envs\\optimum-intel\\lib\\site-packages (from optimum[nncf,openvino]) (1.23.5)\n",
      "Requirement already satisfied: transformers[sentencepiece]>=4.26.0 in c:\\users\\cuburt.balanon\\anaconda3\\envs\\optimum-intel\\lib\\site-packages (from optimum[nncf,openvino]) (4.33.0)\n",
      "Requirement already satisfied: torch>=1.9 in c:\\users\\cuburt.balanon\\anaconda3\\envs\\optimum-intel\\lib\\site-packages (from optimum[nncf,openvino]) (2.0.1)\n",
      "Requirement already satisfied: huggingface-hub>=0.8.0 in c:\\users\\cuburt.balanon\\anaconda3\\envs\\optimum-intel\\lib\\site-packages (from optimum[nncf,openvino]) (0.16.4)\n",
      "Requirement already satisfied: datasets in c:\\users\\cuburt.balanon\\anaconda3\\envs\\optimum-intel\\lib\\site-packages (from optimum[nncf,openvino]) (2.14.4)\n",
      "Requirement already satisfied: optimum-intel[openvino]>=1.10.1 in c:\\users\\cuburt.balanon\\anaconda3\\envs\\optimum-intel\\lib\\site-packages (from optimum[nncf,openvino]) (1.10.1)\n",
      "Requirement already satisfied: requests in c:\\users\\cuburt.balanon\\anaconda3\\envs\\optimum-intel\\lib\\site-packages (from huggingface-hub>=0.8.0->optimum[nncf,openvino]) (2.31.0)\n",
      "Requirement already satisfied: fsspec in c:\\users\\cuburt.balanon\\anaconda3\\envs\\optimum-intel\\lib\\site-packages (from huggingface-hub>=0.8.0->optimum[nncf,openvino]) (2023.9.0)\n",
      "Requirement already satisfied: filelock in c:\\users\\cuburt.balanon\\anaconda3\\envs\\optimum-intel\\lib\\site-packages (from huggingface-hub>=0.8.0->optimum[nncf,openvino]) (3.12.3)\n",
      "Requirement already satisfied: pyyaml>=5.1 in c:\\users\\cuburt.balanon\\appdata\\roaming\\python\\python39\\site-packages (from huggingface-hub>=0.8.0->optimum[nncf,openvino]) (6.0)\n",
      "Requirement already satisfied: typing-extensions>=3.7.4.3 in c:\\users\\cuburt.balanon\\anaconda3\\envs\\optimum-intel\\lib\\site-packages (from huggingface-hub>=0.8.0->optimum[nncf,openvino]) (4.7.1)\n",
      "Requirement already satisfied: tqdm>=4.42.1 in c:\\users\\cuburt.balanon\\anaconda3\\envs\\optimum-intel\\lib\\site-packages (from huggingface-hub>=0.8.0->optimum[nncf,openvino]) (4.66.1)\n",
      "Requirement already satisfied: accelerate in c:\\users\\cuburt.balanon\\appdata\\roaming\\python\\python39\\site-packages (from optimum-intel[openvino]>=1.10.1->optimum[nncf,openvino]) (0.22.0)\n",
      "Requirement already satisfied: scipy in c:\\users\\cuburt.balanon\\appdata\\roaming\\python\\python39\\site-packages (from optimum-intel[openvino]>=1.10.1->optimum[nncf,openvino]) (1.10.1)\n",
      "Requirement already satisfied: sentencepiece in c:\\users\\cuburt.balanon\\anaconda3\\envs\\optimum-intel\\lib\\site-packages (from optimum-intel[openvino]>=1.10.1->optimum[nncf,openvino]) (0.1.99)\n",
      "Requirement already satisfied: nncf>=2.5.0 in c:\\users\\cuburt.balanon\\appdata\\roaming\\python\\python39\\site-packages (from optimum-intel[openvino]>=1.10.1->optimum[nncf,openvino]) (2.5.0)\n",
      "Requirement already satisfied: openvino-dev>=2023.0.0 in c:\\users\\cuburt.balanon\\appdata\\roaming\\python\\python39\\site-packages (from optimum-intel[openvino]>=1.10.1->optimum[nncf,openvino]) (2023.0.2)\n",
      "Requirement already satisfied: xxhash in c:\\users\\cuburt.balanon\\anaconda3\\envs\\optimum-intel\\lib\\site-packages (from datasets->optimum[nncf,openvino]) (3.3.0)\n",
      "Requirement already satisfied: pyarrow>=8.0.0 in c:\\users\\cuburt.balanon\\anaconda3\\envs\\optimum-intel\\lib\\site-packages (from datasets->optimum[nncf,openvino]) (13.0.0)\n",
      "Requirement already satisfied: pandas in c:\\users\\cuburt.balanon\\appdata\\roaming\\python\\python39\\site-packages (from datasets->optimum[nncf,openvino]) (2.0.3)\n",
      "Requirement already satisfied: multiprocess in c:\\users\\cuburt.balanon\\anaconda3\\envs\\optimum-intel\\lib\\site-packages (from datasets->optimum[nncf,openvino]) (0.70.15)\n",
      "Requirement already satisfied: aiohttp in c:\\users\\cuburt.balanon\\anaconda3\\envs\\optimum-intel\\lib\\site-packages (from datasets->optimum[nncf,openvino]) (3.8.5)\n",
      "Requirement already satisfied: dill<0.3.8,>=0.3.0 in c:\\users\\cuburt.balanon\\anaconda3\\envs\\optimum-intel\\lib\\site-packages (from datasets->optimum[nncf,openvino]) (0.3.7)\n",
      "Requirement already satisfied: onnx in c:\\users\\cuburt.balanon\\anaconda3\\envs\\optimum-intel\\lib\\site-packages (from optimum-intel[openvino]>=1.10.1->optimum[nncf,openvino]) (1.14.1)\n",
      "Requirement already satisfied: openvino>=2023.0.0 in c:\\users\\cuburt.balanon\\appdata\\roaming\\python\\python39\\site-packages (from optimum-intel[openvino]>=1.10.1->optimum[nncf,openvino]) (2023.0.2)\n",
      "Requirement already satisfied: onnxruntime in c:\\users\\cuburt.balanon\\appdata\\roaming\\python\\python39\\site-packages (from optimum-intel[openvino]>=1.10.1->optimum[nncf,openvino]) (1.15.0)\n",
      "Requirement already satisfied: networkx in c:\\users\\cuburt.balanon\\appdata\\roaming\\python\\python39\\site-packages (from torch>=1.9->optimum[nncf,openvino]) (2.8.2)\n",
      "Requirement already satisfied: jinja2 in c:\\users\\cuburt.balanon\\appdata\\roaming\\python\\python39\\site-packages (from torch>=1.9->optimum[nncf,openvino]) (3.1.2)\n",
      "Requirement already satisfied: safetensors>=0.3.1 in c:\\users\\cuburt.balanon\\anaconda3\\envs\\optimum-intel\\lib\\site-packages (from transformers[sentencepiece]>=4.26.0->optimum[nncf,openvino]) (0.3.3)\n",
      "Requirement already satisfied: regex!=2019.12.17 in c:\\users\\cuburt.balanon\\anaconda3\\envs\\optimum-intel\\lib\\site-packages (from transformers[sentencepiece]>=4.26.0->optimum[nncf,openvino]) (2023.8.8)\n",
      "Requirement already satisfied: tokenizers!=0.11.3,<0.14,>=0.11.1 in c:\\users\\cuburt.balanon\\anaconda3\\envs\\optimum-intel\\lib\\site-packages (from transformers[sentencepiece]>=4.26.0->optimum[nncf,openvino]) (0.13.3)\n",
      "Requirement already satisfied: protobuf in c:\\users\\cuburt.balanon\\anaconda3\\envs\\optimum-intel\\lib\\site-packages (from transformers[sentencepiece]>=4.26.0->optimum[nncf,openvino]) (4.24.2)\n",
      "Requirement already satisfied: humanfriendly>=9.1 in c:\\users\\cuburt.balanon\\anaconda3\\envs\\optimum-intel\\lib\\site-packages (from coloredlogs->optimum[nncf,openvino]) (10.0)\n",
      "Requirement already satisfied: mpmath>=0.19 in c:\\users\\cuburt.balanon\\anaconda3\\envs\\optimum-intel\\lib\\site-packages (from sympy->optimum[nncf,openvino]) (1.3.0)\n",
      "Requirement already satisfied: frozenlist>=1.1.1 in c:\\users\\cuburt.balanon\\anaconda3\\envs\\optimum-intel\\lib\\site-packages (from aiohttp->datasets->optimum[nncf,openvino]) (1.4.0)\n",
      "Requirement already satisfied: multidict<7.0,>=4.5 in c:\\users\\cuburt.balanon\\anaconda3\\envs\\optimum-intel\\lib\\site-packages (from aiohttp->datasets->optimum[nncf,openvino]) (6.0.4)\n",
      "Requirement already satisfied: yarl<2.0,>=1.0 in c:\\users\\cuburt.balanon\\anaconda3\\envs\\optimum-intel\\lib\\site-packages (from aiohttp->datasets->optimum[nncf,openvino]) (1.9.2)\n",
      "Requirement already satisfied: aiosignal>=1.1.2 in c:\\users\\cuburt.balanon\\anaconda3\\envs\\optimum-intel\\lib\\site-packages (from aiohttp->datasets->optimum[nncf,openvino]) (1.3.1)\n",
      "Requirement already satisfied: attrs>=17.3.0 in c:\\users\\cuburt.balanon\\anaconda3\\envs\\optimum-intel\\lib\\site-packages (from aiohttp->datasets->optimum[nncf,openvino]) (23.1.0)\n",
      "Requirement already satisfied: charset-normalizer<4.0,>=2.0 in c:\\users\\cuburt.balanon\\anaconda3\\envs\\optimum-intel\\lib\\site-packages (from aiohttp->datasets->optimum[nncf,openvino]) (3.2.0)\n",
      "Requirement already satisfied: async-timeout<5.0,>=4.0.0a3 in c:\\users\\cuburt.balanon\\anaconda3\\envs\\optimum-intel\\lib\\site-packages (from aiohttp->datasets->optimum[nncf,openvino]) (4.0.3)\n",
      "Requirement already satisfied: pyreadline3 in c:\\users\\cuburt.balanon\\anaconda3\\envs\\optimum-intel\\lib\\site-packages (from humanfriendly>=9.1->coloredlogs->optimum[nncf,openvino]) (3.4.1)\n",
      "Requirement already satisfied: jstyleson>=0.0.2 in c:\\users\\cuburt.balanon\\anaconda3\\envs\\optimum-intel\\lib\\site-packages (from nncf>=2.5.0->optimum-intel[openvino]>=1.10.1->optimum[nncf,openvino]) (0.0.2)\n",
      "Requirement already satisfied: pyparsing<3.0 in c:\\users\\cuburt.balanon\\anaconda3\\envs\\optimum-intel\\lib\\site-packages (from nncf>=2.5.0->optimum-intel[openvino]>=1.10.1->optimum[nncf,openvino]) (2.4.7)\n",
      "Requirement already satisfied: pydot>=1.4.1 in c:\\users\\cuburt.balanon\\appdata\\roaming\\python\\python39\\site-packages (from nncf>=2.5.0->optimum-intel[openvino]>=1.10.1->optimum[nncf,openvino]) (1.4.2)\n",
      "Requirement already satisfied: texttable>=1.6.3 in c:\\users\\cuburt.balanon\\anaconda3\\envs\\optimum-intel\\lib\\site-packages (from nncf>=2.5.0->optimum-intel[openvino]>=1.10.1->optimum[nncf,openvino]) (1.6.7)\n",
      "Requirement already satisfied: scikit-learn>=0.24.0 in c:\\users\\cuburt.balanon\\anaconda3\\envs\\optimum-intel\\lib\\site-packages (from nncf>=2.5.0->optimum-intel[openvino]>=1.10.1->optimum[nncf,openvino]) (1.3.0)\n",
      "Requirement already satisfied: openvino-telemetry in c:\\users\\cuburt.balanon\\anaconda3\\envs\\optimum-intel\\lib\\site-packages (from nncf>=2.5.0->optimum-intel[openvino]>=1.10.1->optimum[nncf,openvino]) (2023.1.1)\n",
      "Requirement already satisfied: natsort>=7.1.0 in c:\\users\\cuburt.balanon\\appdata\\roaming\\python\\python39\\site-packages (from nncf>=2.5.0->optimum-intel[openvino]>=1.10.1->optimum[nncf,openvino]) (8.4.0)\n",
      "Requirement already satisfied: pymoo==0.5.0 in c:\\users\\cuburt.balanon\\appdata\\roaming\\python\\python39\\site-packages (from nncf>=2.5.0->optimum-intel[openvino]>=1.10.1->optimum[nncf,openvino]) (0.5.0)\n",
      "Requirement already satisfied: ninja<1.11,>=1.10.0.post2 in c:\\users\\cuburt.balanon\\anaconda3\\envs\\optimum-intel\\lib\\site-packages (from nncf>=2.5.0->optimum-intel[openvino]>=1.10.1->optimum[nncf,openvino]) (1.10.2.4)\n",
      "Requirement already satisfied: jsonschema>=3.2.0 in c:\\users\\cuburt.balanon\\appdata\\roaming\\python\\python39\\site-packages (from nncf>=2.5.0->optimum-intel[openvino]>=1.10.1->optimum[nncf,openvino]) (4.19.0)\n",
      "Requirement already satisfied: autograd>=1.3 in c:\\users\\cuburt.balanon\\appdata\\roaming\\python\\python39\\site-packages (from pymoo==0.5.0->nncf>=2.5.0->optimum-intel[openvino]>=1.10.1->optimum[nncf,openvino]) (1.6.2)\n",
      "Requirement already satisfied: cma==2.7 in c:\\users\\cuburt.balanon\\anaconda3\\envs\\optimum-intel\\lib\\site-packages (from pymoo==0.5.0->nncf>=2.5.0->optimum-intel[openvino]>=1.10.1->optimum[nncf,openvino]) (2.7.0)\n",
      "Requirement already satisfied: matplotlib>=3 in c:\\users\\cuburt.balanon\\appdata\\roaming\\python\\python39\\site-packages (from pymoo==0.5.0->nncf>=2.5.0->optimum-intel[openvino]>=1.10.1->optimum[nncf,openvino]) (3.5.2)\n",
      "Requirement already satisfied: opencv-python>=4.5 in c:\\users\\cuburt.balanon\\appdata\\roaming\\python\\python39\\site-packages (from openvino-dev>=2023.0.0->optimum-intel[openvino]>=1.10.1->optimum[nncf,openvino]) (4.8.0.76)\n",
      "Requirement already satisfied: defusedxml>=0.7.1 in c:\\users\\cuburt.balanon\\appdata\\roaming\\python\\python39\\site-packages (from openvino-dev>=2023.0.0->optimum-intel[openvino]>=1.10.1->optimum[nncf,openvino]) (0.7.1)\n",
      "Requirement already satisfied: addict>=2.4.0 in c:\\users\\cuburt.balanon\\anaconda3\\envs\\optimum-intel\\lib\\site-packages (from openvino-dev>=2023.0.0->optimum-intel[openvino]>=1.10.1->optimum[nncf,openvino]) (2.4.0)\n",
      "Requirement already satisfied: pillow>=8.1.2 in c:\\users\\cuburt.balanon\\anaconda3\\envs\\optimum-intel\\lib\\site-packages (from openvino-dev>=2023.0.0->optimum-intel[openvino]>=1.10.1->optimum[nncf,openvino]) (10.0.0)\n",
      "Requirement already satisfied: pytz>=2020.1 in c:\\users\\cuburt.balanon\\anaconda3\\envs\\optimum-intel\\lib\\site-packages (from pandas->datasets->optimum[nncf,openvino]) (2023.3.post1)\n",
      "Requirement already satisfied: python-dateutil>=2.8.2 in c:\\users\\cuburt.balanon\\anaconda3\\envs\\optimum-intel\\lib\\site-packages (from pandas->datasets->optimum[nncf,openvino]) (2.8.2)\n",
      "Requirement already satisfied: tzdata>=2022.1 in c:\\users\\cuburt.balanon\\anaconda3\\envs\\optimum-intel\\lib\\site-packages (from pandas->datasets->optimum[nncf,openvino]) (2023.3)\n",
      "Requirement already satisfied: certifi>=2017.4.17 in c:\\users\\cuburt.balanon\\anaconda3\\envs\\optimum-intel\\lib\\site-packages (from requests->huggingface-hub>=0.8.0->optimum[nncf,openvino]) (2023.7.22)\n",
      "Requirement already satisfied: idna<4,>=2.5 in c:\\users\\cuburt.balanon\\anaconda3\\envs\\optimum-intel\\lib\\site-packages (from requests->huggingface-hub>=0.8.0->optimum[nncf,openvino]) (3.4)\n",
      "Requirement already satisfied: urllib3<3,>=1.21.1 in c:\\users\\cuburt.balanon\\anaconda3\\envs\\optimum-intel\\lib\\site-packages (from requests->huggingface-hub>=0.8.0->optimum[nncf,openvino]) (2.0.4)\n",
      "Requirement already satisfied: colorama in c:\\users\\cuburt.balanon\\appdata\\roaming\\python\\python39\\site-packages (from tqdm>=4.42.1->huggingface-hub>=0.8.0->optimum[nncf,openvino]) (0.4.6)\n",
      "Requirement already satisfied: psutil in c:\\users\\cuburt.balanon\\anaconda3\\envs\\optimum-intel\\lib\\site-packages (from accelerate->optimum-intel[openvino]>=1.10.1->optimum[nncf,openvino]) (5.9.0)\n",
      "Requirement already satisfied: MarkupSafe>=2.0 in c:\\users\\cuburt.balanon\\appdata\\roaming\\python\\python39\\site-packages (from jinja2->torch>=1.9->optimum[nncf,openvino]) (2.1.3)\n",
      "Requirement already satisfied: flatbuffers in c:\\users\\cuburt.balanon\\anaconda3\\envs\\optimum-intel\\lib\\site-packages (from onnxruntime->optimum-intel[openvino]>=1.10.1->optimum[nncf,openvino]) (23.5.26)\n",
      "Requirement already satisfied: rpds-py>=0.7.1 in c:\\users\\cuburt.balanon\\anaconda3\\envs\\optimum-intel\\lib\\site-packages (from jsonschema>=3.2.0->nncf>=2.5.0->optimum-intel[openvino]>=1.10.1->optimum[nncf,openvino]) (0.10.2)\n",
      "Requirement already satisfied: referencing>=0.28.4 in c:\\users\\cuburt.balanon\\appdata\\roaming\\python\\python39\\site-packages (from jsonschema>=3.2.0->nncf>=2.5.0->optimum-intel[openvino]>=1.10.1->optimum[nncf,openvino]) (0.30.2)\n",
      "Requirement already satisfied: jsonschema-specifications>=2023.03.6 in c:\\users\\cuburt.balanon\\appdata\\roaming\\python\\python39\\site-packages (from jsonschema>=3.2.0->nncf>=2.5.0->optimum-intel[openvino]>=1.10.1->optimum[nncf,openvino]) (2023.7.1)\n",
      "Requirement already satisfied: six>=1.5 in c:\\users\\cuburt.balanon\\anaconda3\\envs\\optimum-intel\\lib\\site-packages (from python-dateutil>=2.8.2->pandas->datasets->optimum[nncf,openvino]) (1.16.0)\n",
      "Requirement already satisfied: joblib>=1.1.1 in c:\\users\\cuburt.balanon\\anaconda3\\envs\\optimum-intel\\lib\\site-packages (from scikit-learn>=0.24.0->nncf>=2.5.0->optimum-intel[openvino]>=1.10.1->optimum[nncf,openvino]) (1.3.2)\n",
      "Requirement already satisfied: threadpoolctl>=2.0.0 in c:\\users\\cuburt.balanon\\anaconda3\\envs\\optimum-intel\\lib\\site-packages (from scikit-learn>=0.24.0->nncf>=2.5.0->optimum-intel[openvino]>=1.10.1->optimum[nncf,openvino]) (3.2.0)\n",
      "Requirement already satisfied: future>=0.15.2 in c:\\users\\cuburt.balanon\\appdata\\roaming\\python\\python39\\site-packages (from autograd>=1.3->pymoo==0.5.0->nncf>=2.5.0->optimum-intel[openvino]>=1.10.1->optimum[nncf,openvino]) (0.18.3)\n",
      "Requirement already satisfied: fonttools>=4.22.0 in c:\\users\\cuburt.balanon\\appdata\\roaming\\python\\python39\\site-packages (from matplotlib>=3->pymoo==0.5.0->nncf>=2.5.0->optimum-intel[openvino]>=1.10.1->optimum[nncf,openvino]) (4.42.1)\n",
      "Requirement already satisfied: cycler>=0.10 in c:\\users\\cuburt.balanon\\appdata\\roaming\\python\\python39\\site-packages (from matplotlib>=3->pymoo==0.5.0->nncf>=2.5.0->optimum-intel[openvino]>=1.10.1->optimum[nncf,openvino]) (0.11.0)\n",
      "Requirement already satisfied: kiwisolver>=1.0.1 in c:\\users\\cuburt.balanon\\appdata\\roaming\\python\\python39\\site-packages (from matplotlib>=3->pymoo==0.5.0->nncf>=2.5.0->optimum-intel[openvino]>=1.10.1->optimum[nncf,openvino]) (1.4.5)\n"
     ]
    },
    {
     "name": "stderr",
     "output_type": "stream",
     "text": [
      "WARNING: There was an error checking the latest version of pip.\n"
     ]
    }
   ],
   "source": [
    "!pip install --upgrade-strategy eager optimum[openvino,nncf]"
   ]
  },
  {
   "cell_type": "code",
   "execution_count": 6,
   "id": "6e50dbce-4b56-496e-81bc-6fec0e64249f",
   "metadata": {},
   "outputs": [],
   "source": [
    "from optimum.pipelines import pipeline\n",
    "from transformers import AutoTokenizer\n",
    "from optimum.intel import OVModelForSequenceClassification\n",
    "import evaluate\n",
    "from datasets import load_dataset\n",
    "import tqdm as notebook_tqdm"
   ]
  },
  {
   "cell_type": "code",
   "execution_count": 7,
   "id": "6179a1dd-2fe1-42c8-a8d1-3828de3bb0bd",
   "metadata": {},
   "outputs": [],
   "source": [
    "dataset = load_dataset(\"yahoo_answers_topics\", split=\"test\").shuffle().select(range(500))"
   ]
  },
  {
   "cell_type": "code",
   "execution_count": 8,
   "id": "844981df-c920-4354-842b-3c354694e056",
   "metadata": {},
   "outputs": [
    {
     "name": "stderr",
     "output_type": "stream",
     "text": [
      "The argument `from_transformers` is deprecated, and will be removed in optimum 2.0.  Use `export` instead\n",
      "Framework not specified. Using pt to export to ONNX.\n",
      "Using framework PyTorch: 2.0.1+cpu\n",
      "Overriding 1 configuration item(s)\n",
      "\t- use_cache -> False\n",
      "C:\\Users\\cuburt.balanon\\Anaconda3\\envs\\optimum-intel\\lib\\site-packages\\transformers\\models\\bart\\modeling_bart.py:239: TracerWarning: Converting a tensor to a Python boolean might cause the trace to be incorrect. We can't record the data flow of Python values, so this value will be treated as a constant in the future. This means that the trace might not generalize to other inputs!\n",
      "  if attn_weights.size() != (bsz * self.num_heads, tgt_len, src_len):\n",
      "C:\\Users\\cuburt.balanon\\Anaconda3\\envs\\optimum-intel\\lib\\site-packages\\transformers\\models\\bart\\modeling_bart.py:246: TracerWarning: Converting a tensor to a Python boolean might cause the trace to be incorrect. We can't record the data flow of Python values, so this value will be treated as a constant in the future. This means that the trace might not generalize to other inputs!\n",
      "  if attention_mask.size() != (bsz, 1, tgt_len, src_len):\n",
      "C:\\Users\\cuburt.balanon\\Anaconda3\\envs\\optimum-intel\\lib\\site-packages\\transformers\\models\\bart\\modeling_bart.py:278: TracerWarning: Converting a tensor to a Python boolean might cause the trace to be incorrect. We can't record the data flow of Python values, so this value will be treated as a constant in the future. This means that the trace might not generalize to other inputs!\n",
      "  if attn_output.size() != (bsz * self.num_heads, tgt_len, self.head_dim):\n",
      "C:\\Users\\cuburt.balanon\\Anaconda3\\envs\\optimum-intel\\lib\\site-packages\\transformers\\models\\bart\\modeling_bart.py:936: TracerWarning: Converting a tensor to a Python boolean might cause the trace to be incorrect. We can't record the data flow of Python values, so this value will be treated as a constant in the future. This means that the trace might not generalize to other inputs!\n",
      "  if input_shape[-1] > 1:\n",
      "C:\\Users\\cuburt.balanon\\Anaconda3\\envs\\optimum-intel\\lib\\site-packages\\transformers\\models\\bart\\modeling_bart.py:1558: TracerWarning: Using len to get tensor shape might cause the trace to be incorrect. Recommended usage would be tensor.shape[0]. Passing a tensor of different shape might lead to errors or silently give incorrect results.\n",
      "  if len(torch.unique_consecutive(eos_mask.sum(1))) > 1:\n"
     ]
    },
    {
     "name": "stdout",
     "output_type": "stream",
     "text": [
      "============== Diagnostic Run torch.onnx.export version 2.0.1+cpu ==============\n",
      "verbose: False, log level: Level.ERROR\n",
      "======================= 0 NONE 0 NOTE 0 WARNING 0 ERROR ========================\n",
      "\n"
     ]
    },
    {
     "name": "stderr",
     "output_type": "stream",
     "text": [
      "Compiling the model...\n",
      "Set CACHE_DIR to C:\\Users\\CUBURT~1.BAL\\AppData\\Local\\Temp\\tmphuqnrgzh\\model_cache\n"
     ]
    },
    {
     "data": {
      "text/plain": [
       "('tmp/openvino\\\\tokenizer_config.json',\n",
       " 'tmp/openvino\\\\special_tokens_map.json',\n",
       " 'tmp/openvino\\\\vocab.json',\n",
       " 'tmp/openvino\\\\merges.txt',\n",
       " 'tmp/openvino\\\\added_tokens.json',\n",
       " 'tmp/openvino\\\\tokenizer.json')"
      ]
     },
     "execution_count": 8,
     "metadata": {},
     "output_type": "execute_result"
    }
   ],
   "source": [
    "task_type = \"zero-shot-classification\"\n",
    "\n",
    "metric = evaluate.load(\"accuracy\")\n",
    "# evaluator = evaluate.evaluator(task_type)\n",
    "save_directory = \"tmp/openvino\"\n",
    "model_id = \"facebook/bart-large-mnli\"\n",
    "model = OVModelForSequenceClassification.from_pretrained(model_id, from_transformers=True, export=True)\n",
    "tokenizer = AutoTokenizer.from_pretrained(model_id)\n",
    "model.save_pretrained(save_directory)\n",
    "tokenizer.save_pretrained(save_directory)"
   ]
  },
  {
   "cell_type": "code",
   "execution_count": null,
   "id": "335bfffc-7c8c-4a00-a004-6f6b7209d82a",
   "metadata": {},
   "outputs": [],
   "source": []
  }
 ],
 "metadata": {
  "kernelspec": {
   "display_name": "Python [conda env:optimum-intel]",
   "language": "python",
   "name": "conda-env-optimum-intel-py"
  },
  "language_info": {
   "codemirror_mode": {
    "name": "ipython",
    "version": 3
   },
   "file_extension": ".py",
   "mimetype": "text/x-python",
   "name": "python",
   "nbconvert_exporter": "python",
   "pygments_lexer": "ipython3",
   "version": "3.9.17"
  }
 },
 "nbformat": 4,
 "nbformat_minor": 5
}
