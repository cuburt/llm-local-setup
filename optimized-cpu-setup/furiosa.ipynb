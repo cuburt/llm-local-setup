{
 "cells": [
  {
   "cell_type": "code",
   "execution_count": 4,
   "id": "a3cafc88-d334-4163-9139-5dcbb785b062",
   "metadata": {},
   "outputs": [
    {
     "name": "stdout",
     "output_type": "stream",
     "text": [
      "Requirement already satisfied: optimum[furiosa] in c:\\users\\cuburt.balanon\\anaconda3\\envs\\cpu-inference\\lib\\site-packages (1.9.1)\n",
      "Requirement already satisfied: coloredlogs in c:\\users\\cuburt.balanon\\anaconda3\\envs\\cpu-inference\\lib\\site-packages (from optimum[furiosa]) (15.0.1)\n",
      "Requirement already satisfied: sympy in c:\\users\\cuburt.balanon\\anaconda3\\envs\\cpu-inference\\lib\\site-packages (from optimum[furiosa]) (1.12)\n",
      "Requirement already satisfied: transformers[sentencepiece]>=4.26.0 in c:\\users\\cuburt.balanon\\anaconda3\\envs\\cpu-inference\\lib\\site-packages (from optimum[furiosa]) (4.33.0)\n",
      "Requirement already satisfied: torch>=1.9 in c:\\users\\cuburt.balanon\\anaconda3\\envs\\cpu-inference\\lib\\site-packages (from optimum[furiosa]) (2.0.1)\n",
      "Requirement already satisfied: packaging in c:\\users\\cuburt.balanon\\anaconda3\\envs\\cpu-inference\\lib\\site-packages (from optimum[furiosa]) (23.1)\n",
      "Requirement already satisfied: numpy in c:\\users\\cuburt.balanon\\anaconda3\\envs\\cpu-inference\\lib\\site-packages (from optimum[furiosa]) (1.25.2)\n",
      "Requirement already satisfied: huggingface-hub>=0.8.0 in c:\\users\\cuburt.balanon\\anaconda3\\envs\\cpu-inference\\lib\\site-packages (from optimum[furiosa]) (0.16.4)\n",
      "Requirement already satisfied: datasets in c:\\users\\cuburt.balanon\\anaconda3\\envs\\cpu-inference\\lib\\site-packages (from optimum[furiosa]) (2.14.4)\n",
      "Requirement already satisfied: filelock in c:\\users\\cuburt.balanon\\anaconda3\\envs\\cpu-inference\\lib\\site-packages (from huggingface-hub>=0.8.0->optimum[furiosa]) (3.12.3)\n",
      "Requirement already satisfied: fsspec in c:\\users\\cuburt.balanon\\anaconda3\\envs\\cpu-inference\\lib\\site-packages (from huggingface-hub>=0.8.0->optimum[furiosa]) (2023.9.0)\n",
      "Requirement already satisfied: requests in c:\\users\\cuburt.balanon\\anaconda3\\envs\\cpu-inference\\lib\\site-packages (from huggingface-hub>=0.8.0->optimum[furiosa]) (2.31.0)\n",
      "Requirement already satisfied: tqdm>=4.42.1 in c:\\users\\cuburt.balanon\\anaconda3\\envs\\cpu-inference\\lib\\site-packages (from huggingface-hub>=0.8.0->optimum[furiosa]) (4.66.1)\n",
      "Requirement already satisfied: pyyaml>=5.1 in c:\\users\\cuburt.balanon\\anaconda3\\envs\\cpu-inference\\lib\\site-packages (from huggingface-hub>=0.8.0->optimum[furiosa]) (6.0.1)\n",
      "Requirement already satisfied: typing-extensions>=3.7.4.3 in c:\\users\\cuburt.balanon\\anaconda3\\envs\\cpu-inference\\lib\\site-packages (from huggingface-hub>=0.8.0->optimum[furiosa]) (4.7.1)\n",
      "Requirement already satisfied: networkx in c:\\users\\cuburt.balanon\\anaconda3\\envs\\cpu-inference\\lib\\site-packages (from torch>=1.9->optimum[furiosa]) (3.1)\n",
      "Requirement already satisfied: jinja2 in c:\\users\\cuburt.balanon\\anaconda3\\envs\\cpu-inference\\lib\\site-packages (from torch>=1.9->optimum[furiosa]) (3.1.2)\n",
      "Requirement already satisfied: regex!=2019.12.17 in c:\\users\\cuburt.balanon\\anaconda3\\envs\\cpu-inference\\lib\\site-packages (from transformers[sentencepiece]>=4.26.0->optimum[furiosa]) (2023.8.8)\n",
      "Requirement already satisfied: tokenizers!=0.11.3,<0.14,>=0.11.1 in c:\\users\\cuburt.balanon\\anaconda3\\envs\\cpu-inference\\lib\\site-packages (from transformers[sentencepiece]>=4.26.0->optimum[furiosa]) (0.13.3)\n",
      "Requirement already satisfied: safetensors>=0.3.1 in c:\\users\\cuburt.balanon\\anaconda3\\envs\\cpu-inference\\lib\\site-packages (from transformers[sentencepiece]>=4.26.0->optimum[furiosa]) (0.3.3)\n",
      "Requirement already satisfied: sentencepiece!=0.1.92,>=0.1.91 in c:\\users\\cuburt.balanon\\anaconda3\\envs\\cpu-inference\\lib\\site-packages (from transformers[sentencepiece]>=4.26.0->optimum[furiosa]) (0.1.99)\n",
      "Requirement already satisfied: protobuf in c:\\users\\cuburt.balanon\\anaconda3\\envs\\cpu-inference\\lib\\site-packages (from transformers[sentencepiece]>=4.26.0->optimum[furiosa]) (4.24.2)\n",
      "Requirement already satisfied: humanfriendly>=9.1 in c:\\users\\cuburt.balanon\\anaconda3\\envs\\cpu-inference\\lib\\site-packages (from coloredlogs->optimum[furiosa]) (10.0)\n",
      "Requirement already satisfied: pyarrow>=8.0.0 in c:\\users\\cuburt.balanon\\anaconda3\\envs\\cpu-inference\\lib\\site-packages (from datasets->optimum[furiosa]) (13.0.0)\n",
      "Requirement already satisfied: dill<0.3.8,>=0.3.0 in c:\\users\\cuburt.balanon\\anaconda3\\envs\\cpu-inference\\lib\\site-packages (from datasets->optimum[furiosa]) (0.3.7)\n",
      "Requirement already satisfied: pandas in c:\\users\\cuburt.balanon\\anaconda3\\envs\\cpu-inference\\lib\\site-packages (from datasets->optimum[furiosa]) (2.1.0)\n",
      "Requirement already satisfied: xxhash in c:\\users\\cuburt.balanon\\anaconda3\\envs\\cpu-inference\\lib\\site-packages (from datasets->optimum[furiosa]) (3.3.0)\n",
      "Requirement already satisfied: multiprocess in c:\\users\\cuburt.balanon\\anaconda3\\envs\\cpu-inference\\lib\\site-packages (from datasets->optimum[furiosa]) (0.70.15)\n",
      "Requirement already satisfied: aiohttp in c:\\users\\cuburt.balanon\\anaconda3\\envs\\cpu-inference\\lib\\site-packages (from datasets->optimum[furiosa]) (3.8.5)\n",
      "Requirement already satisfied: mpmath>=0.19 in c:\\users\\cuburt.balanon\\anaconda3\\envs\\cpu-inference\\lib\\site-packages (from sympy->optimum[furiosa]) (1.3.0)\n",
      "Requirement already satisfied: attrs>=17.3.0 in c:\\users\\cuburt.balanon\\anaconda3\\envs\\cpu-inference\\lib\\site-packages (from aiohttp->datasets->optimum[furiosa]) (23.1.0)\n",
      "Requirement already satisfied: charset-normalizer<4.0,>=2.0 in c:\\users\\cuburt.balanon\\anaconda3\\envs\\cpu-inference\\lib\\site-packages (from aiohttp->datasets->optimum[furiosa]) (3.2.0)\n",
      "Requirement already satisfied: multidict<7.0,>=4.5 in c:\\users\\cuburt.balanon\\anaconda3\\envs\\cpu-inference\\lib\\site-packages (from aiohttp->datasets->optimum[furiosa]) (6.0.4)\n",
      "Requirement already satisfied: async-timeout<5.0,>=4.0.0a3 in c:\\users\\cuburt.balanon\\anaconda3\\envs\\cpu-inference\\lib\\site-packages (from aiohttp->datasets->optimum[furiosa]) (4.0.3)\n",
      "Requirement already satisfied: yarl<2.0,>=1.0 in c:\\users\\cuburt.balanon\\anaconda3\\envs\\cpu-inference\\lib\\site-packages (from aiohttp->datasets->optimum[furiosa]) (1.9.2)\n",
      "Requirement already satisfied: frozenlist>=1.1.1 in c:\\users\\cuburt.balanon\\anaconda3\\envs\\cpu-inference\\lib\\site-packages (from aiohttp->datasets->optimum[furiosa]) (1.4.0)\n",
      "Requirement already satisfied: aiosignal>=1.1.2 in c:\\users\\cuburt.balanon\\anaconda3\\envs\\cpu-inference\\lib\\site-packages (from aiohttp->datasets->optimum[furiosa]) (1.3.1)\n",
      "Requirement already satisfied: pyreadline3 in c:\\users\\cuburt.balanon\\anaconda3\\envs\\cpu-inference\\lib\\site-packages (from humanfriendly>=9.1->coloredlogs->optimum[furiosa]) (3.4.1)\n",
      "Requirement already satisfied: idna<4,>=2.5 in c:\\users\\cuburt.balanon\\anaconda3\\envs\\cpu-inference\\lib\\site-packages (from requests->huggingface-hub>=0.8.0->optimum[furiosa]) (3.4)\n",
      "Requirement already satisfied: urllib3<3,>=1.21.1 in c:\\users\\cuburt.balanon\\anaconda3\\envs\\cpu-inference\\lib\\site-packages (from requests->huggingface-hub>=0.8.0->optimum[furiosa]) (2.0.4)\n",
      "Requirement already satisfied: certifi>=2017.4.17 in c:\\users\\cuburt.balanon\\anaconda3\\envs\\cpu-inference\\lib\\site-packages (from requests->huggingface-hub>=0.8.0->optimum[furiosa]) (2023.7.22)\n",
      "Requirement already satisfied: colorama in c:\\users\\cuburt.balanon\\anaconda3\\envs\\cpu-inference\\lib\\site-packages (from tqdm>=4.42.1->huggingface-hub>=0.8.0->optimum[furiosa]) (0.4.6)\n",
      "Requirement already satisfied: MarkupSafe>=2.0 in c:\\users\\cuburt.balanon\\anaconda3\\envs\\cpu-inference\\lib\\site-packages (from jinja2->torch>=1.9->optimum[furiosa]) (2.1.3)\n",
      "Requirement already satisfied: python-dateutil>=2.8.2 in c:\\users\\cuburt.balanon\\anaconda3\\envs\\cpu-inference\\lib\\site-packages (from pandas->datasets->optimum[furiosa]) (2.8.2)\n",
      "Requirement already satisfied: pytz>=2020.1 in c:\\users\\cuburt.balanon\\anaconda3\\envs\\cpu-inference\\lib\\site-packages (from pandas->datasets->optimum[furiosa]) (2023.3.post1)\n",
      "Requirement already satisfied: tzdata>=2022.1 in c:\\users\\cuburt.balanon\\anaconda3\\envs\\cpu-inference\\lib\\site-packages (from pandas->datasets->optimum[furiosa]) (2023.3)\n",
      "Requirement already satisfied: six>=1.5 in c:\\users\\cuburt.balanon\\anaconda3\\envs\\cpu-inference\\lib\\site-packages (from python-dateutil>=2.8.2->pandas->datasets->optimum[furiosa]) (1.16.0)\n"
     ]
    },
    {
     "name": "stderr",
     "output_type": "stream",
     "text": [
      "WARNING: optimum 1.9.1 does not provide the extra 'furiosa'\n"
     ]
    }
   ],
   "source": [
    "!pip install --upgrade-strategy eager optimum[furiosa]"
   ]
  },
  {
   "cell_type": "code",
   "execution_count": 2,
   "id": "fccb2d88-5e36-4be8-8c01-af5adbf4f430",
   "metadata": {},
   "outputs": [
    {
     "name": "stderr",
     "output_type": "stream",
     "text": [
      "C:\\Users\\cuburt.balanon\\Anaconda3\\envs\\cpu-inference\\Lib\\site-packages\\tqdm\\auto.py:21: TqdmWarning: IProgress not found. Please update jupyter and ipywidgets. See https://ipywidgets.readthedocs.io/en/stable/user_install.html\n",
      "  from .autonotebook import tqdm as notebook_tqdm\n"
     ]
    },
    {
     "ename": "ModuleNotFoundError",
     "evalue": "No module named 'optimum.furiosa'",
     "output_type": "error",
     "traceback": [
      "\u001b[1;31m---------------------------------------------------------------------------\u001b[0m",
      "\u001b[1;31mModuleNotFoundError\u001b[0m                       Traceback (most recent call last)",
      "Cell \u001b[1;32mIn[2], line 3\u001b[0m\n\u001b[0;32m      1\u001b[0m \u001b[38;5;28;01mfrom\u001b[39;00m \u001b[38;5;21;01moptimum\u001b[39;00m\u001b[38;5;21;01m.\u001b[39;00m\u001b[38;5;21;01mpipelines\u001b[39;00m \u001b[38;5;28;01mimport\u001b[39;00m pipeline\n\u001b[0;32m      2\u001b[0m \u001b[38;5;28;01mfrom\u001b[39;00m \u001b[38;5;21;01mtransformers\u001b[39;00m \u001b[38;5;28;01mimport\u001b[39;00m AutoTokenizer\n\u001b[1;32m----> 3\u001b[0m \u001b[38;5;28;01mfrom\u001b[39;00m \u001b[38;5;21;01moptimum\u001b[39;00m\u001b[38;5;21;01m.\u001b[39;00m\u001b[38;5;21;01mfuriosa\u001b[39;00m \u001b[38;5;28;01mimport\u001b[39;00m FuriosaAIModelForSequenceClassification\n\u001b[0;32m      4\u001b[0m \u001b[38;5;28;01mimport\u001b[39;00m \u001b[38;5;21;01mevaluate\u001b[39;00m\n\u001b[0;32m      5\u001b[0m \u001b[38;5;28;01mfrom\u001b[39;00m \u001b[38;5;21;01mdatasets\u001b[39;00m \u001b[38;5;28;01mimport\u001b[39;00m load_dataset\n",
      "\u001b[1;31mModuleNotFoundError\u001b[0m: No module named 'optimum.furiosa'"
     ]
    }
   ],
   "source": [
    "from optimum.pipelines import pipeline\n",
    "from transformers import AutoTokenizer\n",
    "from optimum.furiosa import FuriosaAIModelForSequenceClassification\n",
    "import evaluate\n",
    "from datasets import load_dataset\n",
    "import tqdm as notebook_tqdm"
   ]
  },
  {
   "cell_type": "code",
   "execution_count": null,
   "id": "8084e5b0-dba4-4863-8d91-462d26252360",
   "metadata": {},
   "outputs": [],
   "source": []
  }
 ],
 "metadata": {
  "kernelspec": {
   "display_name": "Python [conda env:cpu-inference]",
   "language": "python",
   "name": "conda-env-cpu-inference-py"
  },
  "language_info": {
   "codemirror_mode": {
    "name": "ipython",
    "version": 3
   },
   "file_extension": ".py",
   "mimetype": "text/x-python",
   "name": "python",
   "nbconvert_exporter": "python",
   "pygments_lexer": "ipython3",
   "version": "3.11.4"
  }
 },
 "nbformat": 4,
 "nbformat_minor": 5
}
